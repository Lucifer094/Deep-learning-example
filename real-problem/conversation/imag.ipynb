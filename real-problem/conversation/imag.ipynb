{
 "cells": [
  {
   "cell_type": "markdown",
   "metadata": {},
   "source": [
    "## 导入数据 "
   ]
  },
  {
   "cell_type": "code",
   "execution_count": 1,
   "metadata": {},
   "outputs": [],
   "source": [
    "f = open('history.txt','r')\n",
    "data = f.read()\n",
    "data_dic = eval(data)"
   ]
  },
  {
   "cell_type": "code",
   "execution_count": 3,
   "metadata": {},
   "outputs": [
    {
     "data": {
      "text/plain": [
       "{'loss': [0.044149560846369444,\n",
       "  0.03172784708348034,\n",
       "  0.027989380739865656,\n",
       "  0.023204074054593946,\n",
       "  0.01801574916575589,\n",
       "  0.014084309240127135,\n",
       "  0.011129225172503277,\n",
       "  0.009042638295249976,\n",
       "  0.007940217745616969,\n",
       "  0.00596740776364157,\n",
       "  0.004756460458775733,\n",
       "  0.004003246990174263,\n",
       "  0.003462937404208685,\n",
       "  0.003096529207024987,\n",
       "  0.002704104899788617,\n",
       "  0.0016853665340583765,\n",
       "  0.0025474889887377515,\n",
       "  0.0015917084359480334,\n",
       "  0.002090412336503171,\n",
       "  0.0008200333045356286],\n",
       " 'accuracy': [0.9906086,\n",
       "  0.99131626,\n",
       "  0.991906,\n",
       "  0.99309283,\n",
       "  0.9944934,\n",
       "  0.99597514,\n",
       "  0.9968155,\n",
       "  0.99755263,\n",
       "  0.99776644,\n",
       "  0.99832666,\n",
       "  0.99871737,\n",
       "  0.9989016,\n",
       "  0.99887216,\n",
       "  0.999108,\n",
       "  0.99924076,\n",
       "  0.9996388,\n",
       "  0.999285,\n",
       "  0.99954295,\n",
       "  0.99935865,\n",
       "  0.9998083]}"
      ]
     },
     "execution_count": 3,
     "metadata": {},
     "output_type": "execute_result"
    }
   ],
   "source": [
    "data_dic"
   ]
  },
  {
   "cell_type": "code",
   "execution_count": 4,
   "metadata": {},
   "outputs": [],
   "source": [
    "acc = data_dic['accuracy']\n",
    "# val_acc = data_dic['val_accuracy']\n",
    "loss = data_dic['loss'] \n",
    "# val_loss = data_dic['val_loss']\n",
    "epochs = range(1, len(acc) + 1)"
   ]
  },
  {
   "cell_type": "markdown",
   "metadata": {},
   "source": [
    "## 数据可视化展示"
   ]
  },
  {
   "cell_type": "code",
   "execution_count": 5,
   "metadata": {},
   "outputs": [
    {
     "data": {
      "image/png": "[encoded data removed]",
      "text/plain": [
       "<Figure size 432x288 with 1 Axes>"
      ]
     },
     "metadata": {
      "needs_background": "light"
     },
     "output_type": "display_data"
    }
   ],
   "source": [
    "import matplotlib.pyplot as plt\n",
    "plt.plot(epochs, acc, 'b', label='Training acc') \n",
    "# plt.plot(epochs, val_acc, 'r', label='Validation acc') \n",
    "\n",
    "plt.title('Training and validation accuracy') \n",
    "plt.xlabel('Epochs')\n",
    "plt.ylabel('Accuracy') \n",
    "plt.legend()\n",
    "plt.show()"
   ]
  },
  {
   "cell_type": "code",
   "execution_count": 6,
   "metadata": {},
   "outputs": [
    {
     "data": {
      "text/plain": [
       "<matplotlib.legend.Legend at 0x7fb5908ad2d0>"
      ]
     },
     "execution_count": 6,
     "metadata": {},
     "output_type": "execute_result"
    },
    {
     "data": {
      "image/png": "[encoded data removed]",
      "text/plain": [
       "<Figure size 432x288 with 1 Axes>"
      ]
     },
     "metadata": {
      "needs_background": "light"
     },
     "output_type": "display_data"
    }
   ],
   "source": [
    "plt.plot(epochs, loss, 'b', label='Training loss') \n",
    "# plt.plot(epochs, val_loss, 'r', label='Validation loss') \n",
    "\n",
    "plt.title('Training and validation loss') \n",
    "plt.xlabel('Epochs')\n",
    "plt.ylabel('Loss') \n",
    "plt.legend()"
   ]
  },
  {
   "cell_type": "code",
   "execution_count": null,
   "metadata": {},
   "outputs": [],
   "source": []
  },
  {
   "cell_type": "code",
   "execution_count": null,
   "metadata": {},
   "outputs": [],
   "source": []
  },
  {
   "cell_type": "code",
   "execution_count": null,
   "metadata": {},
   "outputs": [],
   "source": []
  },
  {
   "cell_type": "code",
   "execution_count": 32,
   "metadata": {},
   "outputs": [],
   "source": [
    "import math"
   ]
  },
  {
   "cell_type": "code",
   "execution_count": 33,
   "metadata": {},
   "outputs": [],
   "source": [
    "# Definition for a binary tree node.\n",
    "class TreeNode(object):\n",
    "    def __init__(self, x):\n",
    "        self.val = x\n",
    "        self.left = None\n",
    "        self.right = None\n",
    "\n",
    "\n",
    "        \n",
    "        \n",
    "\n",
    "# Your Codec object will be instantiated and called as such:\n",
    "# codec = Codec()\n",
    "# codec.deserialize(codec.serialize(root))"
   ]
  },
  {
   "cell_type": "code",
   "execution_count": 162,
   "metadata": {},
   "outputs": [],
   "source": [
    "# Definition for a binary tree node.\n",
    "# class TreeNode(object):\n",
    "#     def __init__(self, x):\n",
    "#         self.val = x\n",
    "#         self.left = None\n",
    "#         self.right = None\n",
    "\n",
    "class Codec:\n",
    "\n",
    "    def serialize(self, root):\n",
    "        \"\"\"Encodes a tree to a single string.\n",
    "        \n",
    "        :type root: TreeNode\n",
    "        :rtype: str\n",
    "        \"\"\"\n",
    "        result = []\n",
    "        \n",
    "        deep_now = 0\n",
    "        pos_now = 0\n",
    "        \n",
    "        while(True):\n",
    "            \n",
    "        \n",
    "\n",
    "    def deserialize(self, data):\n",
    "        \"\"\"Decodes your encoded data to tree.\n",
    "        \n",
    "        :type data: str\n",
    "        :rtype: TreeNode\n",
    "        \"\"\"\n",
    "        def build_tree(data, now_pos, now_deep, deep):\n",
    "            width = 2**now_deep\n",
    "            \n",
    "            begin_now = 0\n",
    "            for i in range(now_deep):\n",
    "                begin_now = begin_now + 2**i\n",
    "            \n",
    "            node_left = (begin_now+width) + 2*(now_pos-begin_now)\n",
    "            node_right = (begin_now+width) + 2*(now_pos-begin_now) + 1\n",
    "            \n",
    "            next_deep = now_deep + 1\n",
    "            \n",
    "            if now_deep == deep:\n",
    "                return data[now_pos]\n",
    "            else:\n",
    "                tree = TreeNode(data[now_pos])\n",
    "                tree.left = build_tree(data, node_left, next_deep, deep)\n",
    "                tree.right = build_tree(data, node_right, next_deep, deep)\n",
    "\n",
    "                return tree\n",
    "        \n",
    "        if data == '[]':\n",
    "            return None\n",
    "        \n",
    "        data = data[1:-1].split(',')\n",
    "        \n",
    "        n = len(data)\n",
    "        \n",
    "        deep, count = 0, 1\n",
    "        while(count <= n):\n",
    "            deep = deep + 1\n",
    "            count = count + 2**deep\n",
    "        deep = deep - 1\n",
    "        \n",
    "        tree = build_tree(data, 0, 0, deep)\n",
    "        \n",
    "        return tree\n",
    "        \n",
    "        \n",
    "# Your Codec object will be instantiated and called as such:\n",
    "# codec = Codec()\n",
    "# codec.deserialize(codec.serialize(root))"
   ]
  },
  {
   "cell_type": "code",
   "execution_count": null,
   "metadata": {},
   "outputs": [],
   "source": []
  },
  {
   "cell_type": "code",
   "execution_count": null,
   "metadata": {},
   "outputs": [],
   "source": []
  },
  {
   "cell_type": "code",
   "execution_count": null,
   "metadata": {},
   "outputs": [],
   "source": []
  },
  {
   "cell_type": "code",
   "execution_count": null,
   "metadata": {},
   "outputs": [],
   "source": []
  }
 ],
 "metadata": {
  "kernelspec": {
   "display_name": "tensorflow",
   "language": "python",
   "name": "tensorflow"
  },
  "language_info": {
   "codemirror_mode": {
    "name": "ipython",
    "version": 3
   },
   "file_extension": ".py",
   "mimetype": "text/x-python",
   "name": "python",
   "nbconvert_exporter": "python",
   "pygments_lexer": "ipython3",
   "version": "3.7.6"
  }
 },
 "nbformat": 4,
 "nbformat_minor": 4
}
