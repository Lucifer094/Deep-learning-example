{
 "cells": [
  {
   "cell_type": "markdown",
   "metadata": {},
   "source": [
    "# 661数据下的CNN+DNN"
   ]
  },
  {
   "cell_type": "markdown",
   "metadata": {},
   "source": [
    "## 数据整理"
   ]
  },
  {
   "cell_type": "code",
   "execution_count": 2,
   "metadata": {},
   "outputs": [],
   "source": [
    "import pandas as pd\n",
    "import numpy as np"
   ]
  },
  {
   "cell_type": "code",
   "execution_count": 3,
   "metadata": {},
   "outputs": [],
   "source": [
    "x_all_df = pd.read_csv('x_train_2.csv', encoding='utf-8', header=0, index_col=0)"
   ]
  },
  {
   "cell_type": "code",
   "execution_count": 4,
   "metadata": {},
   "outputs": [],
   "source": [
    "y_all_df = pd.read_csv('y_train_2.csv',encoding='utf-8', header=0, index_col=0)"
   ]
  },
  {
   "cell_type": "code",
   "execution_count": 13,
   "metadata": {},
   "outputs": [],
   "source": [
    "x_all = x_all_df.values\n",
    "y_all = y_all_df.values\n",
    "# x_all = x_all.reshape(-1,228,200)"
   ]
  },
  {
   "cell_type": "code",
   "execution_count": 6,
   "metadata": {},
   "outputs": [],
   "source": [
    "x_train = x_all[0:400]\n",
    "x_validation = x_all[400:530]\n",
    "x_test = x_all[530:]\n",
    "\n",
    "y_train = y_all[0:400]\n",
    "y_validation = y_all[400:530]\n",
    "y_test = y_all[530:]"
   ]
  },
  {
   "cell_type": "code",
   "execution_count": 15,
   "metadata": {},
   "outputs": [
    {
     "data": {
      "text/plain": [
       "(530, 45600)"
      ]
     },
     "execution_count": 15,
     "metadata": {},
     "output_type": "execute_result"
    }
   ],
   "source": [
    "x_train.shape"
   ]
  },
  {
   "cell_type": "code",
   "execution_count": 14,
   "metadata": {},
   "outputs": [],
   "source": [
    "x_train = x_all[0:530]\n",
    "x_test = x_all[530:]\n",
    "\n",
    "y_train = y_all[0:530]\n",
    "y_test = y_all[530:]"
   ]
  },
  {
   "cell_type": "markdown",
   "metadata": {},
   "source": [
    "## 模型搭建 "
   ]
  },
  {
   "cell_type": "code",
   "execution_count": 18,
   "metadata": {},
   "outputs": [],
   "source": [
    "from keras.models import Sequential\n",
    "from keras.layers import Convolution2D,MaxPooling2D,Flatten,Activation,Dense,Dropout,LSTM,Embedding\n",
    "from keras import layers\n",
    "from keras.regularizers import l2"
   ]
  },
  {
   "cell_type": "code",
   "execution_count": 28,
   "metadata": {},
   "outputs": [
    {
     "name": "stdout",
     "output_type": "stream",
     "text": [
      "WARNING:tensorflow:Large dropout rate: 0.7 (>0.5). In TensorFlow 2.x, dropout() uses dropout rate instead of keep_prob. Please ensure that this is intended.\n"
     ]
    },
    {
     "name": "stderr",
     "output_type": "stream",
     "text": [
      "/Users/zhangxin/opt/anaconda3/envs/tensorflow/lib/python3.7/site-packages/ipykernel_launcher.py:8: UserWarning: Update your `Dense` call to the Keras 2 API: `Dense(bias_initializer=\"zeros\", kernel_regularizer=<keras.reg..., units=4)`\n",
      "  \n"
     ]
    }
   ],
   "source": [
    "model = Sequential()\n",
    "model.add(layers.Dense(100, activation='tanh', bias_initializer='zeros',kernel_regularizer=l2(0.0003),input_shape=(45600,)))\n",
    "model.add(Dropout(0.7))\n",
    "model.add(Dense(100, bias_initializer='zeros', activation='tanh',kernel_regularizer=l2(0.0003)))\n",
    "model.add(Dropout(0.5))\n",
    "model.add(Dense(100, bias_initializer='zeros', activation='tanh',kernel_regularizer=l2(0.0003)))\n",
    "model.add(Dropout(0.5))\n",
    "model.add(Dense(output_dim=4,bias_initializer='zeros',kernel_regularizer=l2(0.0003)))\n",
    "model.add(Activation('softmax'))"
   ]
  },
  {
   "cell_type": "code",
   "execution_count": 29,
   "metadata": {},
   "outputs": [],
   "source": [
    "model.compile(loss='categorical_crossentropy',optimizer='rmsprop',metrics=['acc'])\n",
    "# from keras import losses \n",
    "# from keras import metrics\n",
    "# from keras import optimizers\n",
    "# model.compile(optimizer=optimizers.RMSprop(lr=0.001), loss=losses.categorical_crossentropy, metrics=['acc'])"
   ]
  },
  {
   "cell_type": "code",
   "execution_count": 30,
   "metadata": {},
   "outputs": [],
   "source": [
    "weights = np.array(model.get_weights())"
   ]
  },
  {
   "cell_type": "markdown",
   "metadata": {},
   "source": [
    "## 模型训练 "
   ]
  },
  {
   "cell_type": "code",
   "execution_count": 31,
   "metadata": {},
   "outputs": [
    {
     "name": "stdout",
     "output_type": "stream",
     "text": [
      "Train on 355 samples, validate on 175 samples\n",
      "Epoch 1/180\n",
      "355/355 [==============================] - 5s 13ms/step - loss: 1.6903 - acc: 0.3324 - val_loss: 1.4923 - val_acc: 0.3714\n",
      "Epoch 2/180\n",
      "355/355 [==============================] - 3s 7ms/step - loss: 1.5256 - acc: 0.4282 - val_loss: 1.4211 - val_acc: 0.4000\n",
      "Epoch 3/180\n",
      "355/355 [==============================] - 3s 7ms/step - loss: 1.4738 - acc: 0.4563 - val_loss: 1.5143 - val_acc: 0.3600\n",
      "Epoch 4/180\n",
      "355/355 [==============================] - 3s 7ms/step - loss: 1.3449 - acc: 0.4873 - val_loss: 1.4502 - val_acc: 0.4286\n",
      "Epoch 5/180\n",
      "355/355 [==============================] - 3s 8ms/step - loss: 1.3077 - acc: 0.5099 - val_loss: 1.4208 - val_acc: 0.4514\n",
      "Epoch 6/180\n",
      "355/355 [==============================] - 3s 8ms/step - loss: 1.2672 - acc: 0.5465 - val_loss: 1.4793 - val_acc: 0.3829\n",
      "Epoch 7/180\n",
      "355/355 [==============================] - 3s 8ms/step - loss: 1.1991 - acc: 0.5239 - val_loss: 1.4804 - val_acc: 0.4286\n",
      "Epoch 8/180\n",
      "355/355 [==============================] - 4s 11ms/step - loss: 1.2081 - acc: 0.5521 - val_loss: 1.3661 - val_acc: 0.4686\n",
      "Epoch 9/180\n",
      "355/355 [==============================] - 3s 8ms/step - loss: 1.0710 - acc: 0.6000 - val_loss: 1.2655 - val_acc: 0.4571\n",
      "Epoch 10/180\n",
      "355/355 [==============================] - 3s 8ms/step - loss: 1.0686 - acc: 0.6028 - val_loss: 1.4609 - val_acc: 0.4229\n",
      "Epoch 11/180\n",
      "355/355 [==============================] - 3s 8ms/step - loss: 0.9854 - acc: 0.6451 - val_loss: 1.4502 - val_acc: 0.4229\n",
      "Epoch 12/180\n",
      "355/355 [==============================] - 3s 8ms/step - loss: 0.9753 - acc: 0.6338 - val_loss: 1.4427 - val_acc: 0.4171\n",
      "Epoch 13/180\n",
      "355/355 [==============================] - 3s 8ms/step - loss: 0.9363 - acc: 0.6732 - val_loss: 1.6168 - val_acc: 0.4400\n",
      "Epoch 14/180\n",
      "355/355 [==============================] - 3s 7ms/step - loss: 0.8938 - acc: 0.6986 - val_loss: 1.4602 - val_acc: 0.4857\n",
      "Epoch 15/180\n",
      "355/355 [==============================] - 4s 11ms/step - loss: 0.9306 - acc: 0.6873 - val_loss: 1.4998 - val_acc: 0.4571\n",
      "Epoch 16/180\n",
      "355/355 [==============================] - 4s 10ms/step - loss: 0.8913 - acc: 0.7042 - val_loss: 1.6109 - val_acc: 0.4457\n",
      "Epoch 17/180\n",
      "355/355 [==============================] - 3s 7ms/step - loss: 0.8184 - acc: 0.7070 - val_loss: 1.7058 - val_acc: 0.4114\n",
      "Epoch 18/180\n",
      "355/355 [==============================] - 3s 8ms/step - loss: 0.7243 - acc: 0.7268 - val_loss: 1.8307 - val_acc: 0.4000\n",
      "Epoch 19/180\n",
      "355/355 [==============================] - 3s 8ms/step - loss: 0.8044 - acc: 0.7296 - val_loss: 1.6698 - val_acc: 0.4686\n",
      "Epoch 20/180\n",
      "355/355 [==============================] - 3s 8ms/step - loss: 0.8657 - acc: 0.6789 - val_loss: 2.1523 - val_acc: 0.3543\n",
      "Epoch 21/180\n",
      "355/355 [==============================] - 3s 9ms/step - loss: 0.7122 - acc: 0.7549 - val_loss: 1.6903 - val_acc: 0.4457\n",
      "Epoch 22/180\n",
      "355/355 [==============================] - 3s 8ms/step - loss: 0.8034 - acc: 0.7155 - val_loss: 1.9319 - val_acc: 0.4457\n",
      "Epoch 23/180\n",
      "355/355 [==============================] - 3s 8ms/step - loss: 0.7192 - acc: 0.7606 - val_loss: 1.8231 - val_acc: 0.4457\n",
      "Epoch 24/180\n",
      "355/355 [==============================] - 3s 8ms/step - loss: 0.7228 - acc: 0.7493 - val_loss: 1.6290 - val_acc: 0.5029\n",
      "Epoch 25/180\n",
      "355/355 [==============================] - 3s 8ms/step - loss: 0.7288 - acc: 0.7606 - val_loss: 1.8445 - val_acc: 0.4629\n",
      "Epoch 26/180\n",
      "355/355 [==============================] - 3s 8ms/step - loss: 0.6050 - acc: 0.8197 - val_loss: 1.8348 - val_acc: 0.4743\n",
      "Epoch 27/180\n",
      "355/355 [==============================] - 3s 8ms/step - loss: 0.6192 - acc: 0.8085 - val_loss: 2.1918 - val_acc: 0.4114\n",
      "Epoch 28/180\n",
      "355/355 [==============================] - 3s 8ms/step - loss: 0.6563 - acc: 0.7859 - val_loss: 2.0837 - val_acc: 0.4629\n",
      "Epoch 29/180\n",
      "355/355 [==============================] - 3s 7ms/step - loss: 0.6023 - acc: 0.8169 - val_loss: 1.9184 - val_acc: 0.4743\n",
      "Epoch 30/180\n",
      "355/355 [==============================] - 3s 7ms/step - loss: 0.6280 - acc: 0.8028 - val_loss: 2.0931 - val_acc: 0.4629\n",
      "Epoch 31/180\n",
      "355/355 [==============================] - 3s 8ms/step - loss: 0.5302 - acc: 0.8451 - val_loss: 2.2225 - val_acc: 0.4343\n",
      "Epoch 32/180\n",
      "355/355 [==============================] - 3s 8ms/step - loss: 0.5589 - acc: 0.8225 - val_loss: 1.9522 - val_acc: 0.4571\n",
      "Epoch 33/180\n",
      "355/355 [==============================] - 3s 8ms/step - loss: 0.5401 - acc: 0.8394 - val_loss: 2.2250 - val_acc: 0.4457\n",
      "Epoch 34/180\n",
      "355/355 [==============================] - 3s 8ms/step - loss: 0.5699 - acc: 0.8169 - val_loss: 2.3783 - val_acc: 0.4114\n",
      "Epoch 35/180\n",
      "355/355 [==============================] - 3s 7ms/step - loss: 0.4960 - acc: 0.8394 - val_loss: 2.8477 - val_acc: 0.4114\n",
      "Epoch 36/180\n",
      "355/355 [==============================] - 3s 7ms/step - loss: 0.5492 - acc: 0.8338 - val_loss: 2.2958 - val_acc: 0.4571\n",
      "Epoch 37/180\n",
      "355/355 [==============================] - 3s 7ms/step - loss: 0.4602 - acc: 0.8845 - val_loss: 2.1965 - val_acc: 0.4400\n",
      "Epoch 38/180\n",
      "355/355 [==============================] - 3s 7ms/step - loss: 0.4961 - acc: 0.8507 - val_loss: 2.3356 - val_acc: 0.4743\n",
      "Epoch 39/180\n",
      "355/355 [==============================] - 3s 9ms/step - loss: 0.4729 - acc: 0.8535 - val_loss: 2.4644 - val_acc: 0.4114\n",
      "Epoch 40/180\n",
      "355/355 [==============================] - 3s 8ms/step - loss: 0.4947 - acc: 0.8479 - val_loss: 2.1151 - val_acc: 0.4686\n",
      "Epoch 41/180\n",
      "355/355 [==============================] - 3s 9ms/step - loss: 0.5442 - acc: 0.8479 - val_loss: 1.9448 - val_acc: 0.5257\n",
      "Epoch 42/180\n",
      "355/355 [==============================] - 3s 8ms/step - loss: 0.4672 - acc: 0.8789 - val_loss: 2.1054 - val_acc: 0.4914\n",
      "Epoch 43/180\n",
      "355/355 [==============================] - 3s 9ms/step - loss: 0.4929 - acc: 0.8394 - val_loss: 2.4745 - val_acc: 0.4514\n",
      "Epoch 44/180\n",
      "355/355 [==============================] - 3s 8ms/step - loss: 0.4992 - acc: 0.8451 - val_loss: 2.5780 - val_acc: 0.4229\n",
      "Epoch 45/180\n",
      "355/355 [==============================] - 3s 8ms/step - loss: 0.4978 - acc: 0.8479 - val_loss: 2.5742 - val_acc: 0.4400\n",
      "Epoch 46/180\n",
      "355/355 [==============================] - 3s 8ms/step - loss: 0.4789 - acc: 0.8563 - val_loss: 2.6905 - val_acc: 0.4457\n",
      "Epoch 47/180\n",
      "355/355 [==============================] - 3s 7ms/step - loss: 0.4948 - acc: 0.8648 - val_loss: 2.3850 - val_acc: 0.4686\n",
      "Epoch 48/180\n",
      "355/355 [==============================] - 3s 7ms/step - loss: 0.5237 - acc: 0.8479 - val_loss: 2.5876 - val_acc: 0.4286\n",
      "Epoch 49/180\n",
      "355/355 [==============================] - 3s 7ms/step - loss: 0.4528 - acc: 0.8676 - val_loss: 2.2832 - val_acc: 0.4686\n",
      "Epoch 50/180\n",
      "355/355 [==============================] - 3s 8ms/step - loss: 0.4105 - acc: 0.8873 - val_loss: 2.2350 - val_acc: 0.4743\n",
      "Epoch 51/180\n",
      "355/355 [==============================] - 3s 7ms/step - loss: 0.4839 - acc: 0.8535 - val_loss: 2.7944 - val_acc: 0.4286\n",
      "Epoch 52/180\n",
      "355/355 [==============================] - 3s 7ms/step - loss: 0.4416 - acc: 0.8873 - val_loss: 2.7138 - val_acc: 0.4171\n",
      "Epoch 53/180\n",
      "355/355 [==============================] - 3s 7ms/step - loss: 0.4565 - acc: 0.8901 - val_loss: 2.4328 - val_acc: 0.4629\n",
      "Epoch 54/180\n",
      "355/355 [==============================] - 3s 7ms/step - loss: 0.3964 - acc: 0.9070 - val_loss: 2.5675 - val_acc: 0.4457\n",
      "Epoch 55/180\n",
      "355/355 [==============================] - 3s 7ms/step - loss: 0.4067 - acc: 0.9070 - val_loss: 2.4582 - val_acc: 0.4686\n",
      "Epoch 56/180\n",
      "355/355 [==============================] - 3s 8ms/step - loss: 0.3983 - acc: 0.8986 - val_loss: 2.4161 - val_acc: 0.4514\n",
      "Epoch 57/180\n",
      "355/355 [==============================] - 3s 8ms/step - loss: 0.4742 - acc: 0.8845 - val_loss: 2.5759 - val_acc: 0.4457\n",
      "Epoch 58/180\n",
      "355/355 [==============================] - 3s 7ms/step - loss: 0.3995 - acc: 0.8873 - val_loss: 2.8483 - val_acc: 0.4514\n",
      "Epoch 59/180\n",
      "355/355 [==============================] - 3s 7ms/step - loss: 0.4425 - acc: 0.8761 - val_loss: 2.6498 - val_acc: 0.4457\n",
      "Epoch 60/180\n",
      "355/355 [==============================] - 3s 7ms/step - loss: 0.4337 - acc: 0.8901 - val_loss: 2.5438 - val_acc: 0.4857\n",
      "Epoch 61/180\n",
      "355/355 [==============================] - 3s 7ms/step - loss: 0.3967 - acc: 0.8845 - val_loss: 3.0108 - val_acc: 0.4171\n"
     ]
    },
    {
     "name": "stdout",
     "output_type": "stream",
     "text": [
      "Epoch 62/180\n",
      "355/355 [==============================] - 3s 7ms/step - loss: 0.4588 - acc: 0.8930 - val_loss: 2.5092 - val_acc: 0.4686\n",
      "Epoch 63/180\n",
      "355/355 [==============================] - 3s 8ms/step - loss: 0.3450 - acc: 0.9127 - val_loss: 2.6050 - val_acc: 0.4629\n",
      "Epoch 64/180\n",
      "355/355 [==============================] - 3s 8ms/step - loss: 0.3975 - acc: 0.8930 - val_loss: 2.7079 - val_acc: 0.4400\n",
      "Epoch 65/180\n",
      "355/355 [==============================] - 3s 8ms/step - loss: 0.3839 - acc: 0.9127 - val_loss: 2.2916 - val_acc: 0.5143\n",
      "Epoch 66/180\n",
      "355/355 [==============================] - 3s 8ms/step - loss: 0.3919 - acc: 0.8930 - val_loss: 2.7479 - val_acc: 0.4457\n",
      "Epoch 67/180\n",
      "355/355 [==============================] - 3s 8ms/step - loss: 0.3323 - acc: 0.9239 - val_loss: 2.8297 - val_acc: 0.4514\n",
      "Epoch 68/180\n",
      "355/355 [==============================] - 3s 7ms/step - loss: 0.4201 - acc: 0.9042 - val_loss: 2.7320 - val_acc: 0.4514\n",
      "Epoch 69/180\n",
      "355/355 [==============================] - 3s 8ms/step - loss: 0.3991 - acc: 0.9042 - val_loss: 2.5466 - val_acc: 0.4514\n",
      "Epoch 70/180\n",
      "355/355 [==============================] - 3s 8ms/step - loss: 0.3346 - acc: 0.9296 - val_loss: 2.6898 - val_acc: 0.4514\n",
      "Epoch 71/180\n",
      "355/355 [==============================] - 3s 8ms/step - loss: 0.3427 - acc: 0.9211 - val_loss: 2.6351 - val_acc: 0.4571\n",
      "Epoch 72/180\n",
      "355/355 [==============================] - 3s 8ms/step - loss: 0.3925 - acc: 0.8930 - val_loss: 2.6169 - val_acc: 0.4571\n",
      "Epoch 73/180\n",
      "355/355 [==============================] - 3s 8ms/step - loss: 0.3782 - acc: 0.8873 - val_loss: 2.7853 - val_acc: 0.4457\n",
      "Epoch 74/180\n",
      "355/355 [==============================] - 3s 8ms/step - loss: 0.3435 - acc: 0.9324 - val_loss: 2.5360 - val_acc: 0.4743\n",
      "Epoch 75/180\n",
      "355/355 [==============================] - 3s 8ms/step - loss: 0.3974 - acc: 0.8930 - val_loss: 2.9724 - val_acc: 0.4457\n",
      "Epoch 76/180\n",
      "355/355 [==============================] - 3s 8ms/step - loss: 0.3641 - acc: 0.9099 - val_loss: 3.0150 - val_acc: 0.4343\n",
      "Epoch 77/180\n",
      "355/355 [==============================] - 3s 8ms/step - loss: 0.2927 - acc: 0.9465 - val_loss: 2.7068 - val_acc: 0.4629\n",
      "Epoch 78/180\n",
      "355/355 [==============================] - 3s 8ms/step - loss: 0.4408 - acc: 0.8817 - val_loss: 2.7285 - val_acc: 0.4457\n",
      "Epoch 79/180\n",
      "355/355 [==============================] - 3s 9ms/step - loss: 0.3544 - acc: 0.9155 - val_loss: 3.1480 - val_acc: 0.4229\n",
      "Epoch 80/180\n",
      "355/355 [==============================] - 3s 9ms/step - loss: 0.3596 - acc: 0.9268 - val_loss: 3.1452 - val_acc: 0.4229\n",
      "Epoch 81/180\n",
      "355/355 [==============================] - 3s 8ms/step - loss: 0.3876 - acc: 0.9014 - val_loss: 2.7744 - val_acc: 0.4514\n",
      "Epoch 82/180\n",
      "355/355 [==============================] - 3s 8ms/step - loss: 0.3590 - acc: 0.9070 - val_loss: 2.9024 - val_acc: 0.4343\n",
      "Epoch 83/180\n",
      "355/355 [==============================] - 3s 8ms/step - loss: 0.3286 - acc: 0.9380 - val_loss: 2.9599 - val_acc: 0.4571\n",
      "Epoch 84/180\n",
      "355/355 [==============================] - 3s 8ms/step - loss: 0.3178 - acc: 0.9324 - val_loss: 2.9930 - val_acc: 0.4114\n",
      "Epoch 85/180\n",
      "355/355 [==============================] - 3s 7ms/step - loss: 0.3298 - acc: 0.9183 - val_loss: 2.8465 - val_acc: 0.4571\n",
      "Epoch 86/180\n",
      "355/355 [==============================] - 3s 8ms/step - loss: 0.3506 - acc: 0.9211 - val_loss: 3.3748 - val_acc: 0.3886\n",
      "Epoch 87/180\n",
      "355/355 [==============================] - 3s 8ms/step - loss: 0.3476 - acc: 0.9239 - val_loss: 3.0377 - val_acc: 0.4343\n",
      "Epoch 88/180\n",
      "355/355 [==============================] - 3s 8ms/step - loss: 0.3073 - acc: 0.9296 - val_loss: 2.7414 - val_acc: 0.4629\n",
      "Epoch 89/180\n",
      "355/355 [==============================] - 3s 8ms/step - loss: 0.3755 - acc: 0.9155 - val_loss: 2.9745 - val_acc: 0.4286\n",
      "Epoch 90/180\n",
      "355/355 [==============================] - 3s 8ms/step - loss: 0.3249 - acc: 0.9296 - val_loss: 3.3160 - val_acc: 0.4171\n",
      "Epoch 91/180\n",
      "355/355 [==============================] - 3s 8ms/step - loss: 0.3069 - acc: 0.9296 - val_loss: 3.0158 - val_acc: 0.4286\n",
      "Epoch 92/180\n",
      "355/355 [==============================] - 3s 7ms/step - loss: 0.3740 - acc: 0.9211 - val_loss: 3.1595 - val_acc: 0.4343\n",
      "Epoch 93/180\n",
      "355/355 [==============================] - 3s 8ms/step - loss: 0.3649 - acc: 0.9155 - val_loss: 2.9875 - val_acc: 0.4571\n",
      "Epoch 94/180\n",
      "355/355 [==============================] - 3s 8ms/step - loss: 0.3416 - acc: 0.9296 - val_loss: 3.3304 - val_acc: 0.4000\n",
      "Epoch 95/180\n",
      "355/355 [==============================] - 3s 8ms/step - loss: 0.2791 - acc: 0.9380 - val_loss: 2.7619 - val_acc: 0.4914\n",
      "Epoch 96/180\n",
      "355/355 [==============================] - 3s 8ms/step - loss: 0.3321 - acc: 0.9296 - val_loss: 3.0134 - val_acc: 0.4514\n",
      "Epoch 97/180\n",
      "355/355 [==============================] - 3s 8ms/step - loss: 0.3399 - acc: 0.9268 - val_loss: 2.9796 - val_acc: 0.4343\n",
      "Epoch 98/180\n",
      "355/355 [==============================] - 3s 8ms/step - loss: 0.3942 - acc: 0.9099 - val_loss: 3.0002 - val_acc: 0.4457\n",
      "Epoch 99/180\n",
      "355/355 [==============================] - 3s 8ms/step - loss: 0.3113 - acc: 0.9352 - val_loss: 2.8362 - val_acc: 0.4571\n",
      "Epoch 100/180\n",
      "355/355 [==============================] - 3s 8ms/step - loss: 0.2739 - acc: 0.9493 - val_loss: 2.8398 - val_acc: 0.4571\n",
      "Epoch 101/180\n",
      "355/355 [==============================] - 3s 7ms/step - loss: 0.3195 - acc: 0.9352 - val_loss: 2.8175 - val_acc: 0.4571\n",
      "Epoch 102/180\n",
      "355/355 [==============================] - 3s 9ms/step - loss: 0.2717 - acc: 0.9324 - val_loss: 2.8453 - val_acc: 0.4629\n",
      "Epoch 103/180\n",
      "355/355 [==============================] - 4s 10ms/step - loss: 0.3142 - acc: 0.9352 - val_loss: 2.9515 - val_acc: 0.4686\n",
      "Epoch 104/180\n",
      "355/355 [==============================] - 4s 10ms/step - loss: 0.3369 - acc: 0.9324 - val_loss: 3.1806 - val_acc: 0.4114\n",
      "Epoch 105/180\n",
      "355/355 [==============================] - 3s 8ms/step - loss: 0.3082 - acc: 0.9296 - val_loss: 3.0363 - val_acc: 0.4286\n",
      "Epoch 106/180\n",
      "355/355 [==============================] - 3s 7ms/step - loss: 0.2972 - acc: 0.9465 - val_loss: 3.0268 - val_acc: 0.4571\n",
      "Epoch 107/180\n",
      "355/355 [==============================] - 3s 7ms/step - loss: 0.3198 - acc: 0.9324 - val_loss: 2.9329 - val_acc: 0.4343\n",
      "Epoch 108/180\n",
      "355/355 [==============================] - 3s 8ms/step - loss: 0.2788 - acc: 0.9493 - val_loss: 2.9245 - val_acc: 0.4457\n",
      "Epoch 109/180\n",
      "355/355 [==============================] - 3s 8ms/step - loss: 0.3074 - acc: 0.9408 - val_loss: 2.7927 - val_acc: 0.4629\n",
      "Epoch 110/180\n",
      "355/355 [==============================] - 3s 7ms/step - loss: 0.3282 - acc: 0.9352 - val_loss: 2.9820 - val_acc: 0.4343\n",
      "Epoch 111/180\n",
      "355/355 [==============================] - 3s 7ms/step - loss: 0.3197 - acc: 0.9239 - val_loss: 2.6180 - val_acc: 0.4800\n",
      "Epoch 112/180\n",
      "355/355 [==============================] - 3s 8ms/step - loss: 0.3239 - acc: 0.9352 - val_loss: 2.8563 - val_acc: 0.4743\n",
      "Epoch 113/180\n",
      "355/355 [==============================] - 3s 8ms/step - loss: 0.3166 - acc: 0.9239 - val_loss: 2.8505 - val_acc: 0.4400\n",
      "Epoch 114/180\n",
      "355/355 [==============================] - 3s 8ms/step - loss: 0.2971 - acc: 0.9437 - val_loss: 2.8574 - val_acc: 0.4514\n",
      "Epoch 115/180\n",
      "355/355 [==============================] - 3s 8ms/step - loss: 0.3329 - acc: 0.9239 - val_loss: 3.0800 - val_acc: 0.4171\n",
      "Epoch 116/180\n",
      "355/355 [==============================] - 3s 8ms/step - loss: 0.2854 - acc: 0.9437 - val_loss: 2.9259 - val_acc: 0.4286\n",
      "Epoch 117/180\n",
      "355/355 [==============================] - 3s 8ms/step - loss: 0.3411 - acc: 0.9211 - val_loss: 2.8780 - val_acc: 0.4629\n",
      "Epoch 118/180\n",
      "355/355 [==============================] - 3s 8ms/step - loss: 0.2888 - acc: 0.9493 - val_loss: 2.7871 - val_acc: 0.4629\n",
      "Epoch 119/180\n",
      "355/355 [==============================] - 3s 7ms/step - loss: 0.2971 - acc: 0.9493 - val_loss: 2.8727 - val_acc: 0.4629\n",
      "Epoch 120/180\n",
      "355/355 [==============================] - 3s 7ms/step - loss: 0.3067 - acc: 0.9239 - val_loss: 3.0528 - val_acc: 0.4400\n",
      "Epoch 121/180\n",
      "355/355 [==============================] - 3s 7ms/step - loss: 0.3273 - acc: 0.9380 - val_loss: 3.0522 - val_acc: 0.4629\n",
      "Epoch 122/180\n",
      "355/355 [==============================] - 3s 7ms/step - loss: 0.3319 - acc: 0.9324 - val_loss: 2.7903 - val_acc: 0.4629\n"
     ]
    },
    {
     "name": "stdout",
     "output_type": "stream",
     "text": [
      "Epoch 123/180\n",
      "355/355 [==============================] - 3s 7ms/step - loss: 0.3394 - acc: 0.9239 - val_loss: 3.0524 - val_acc: 0.4400\n",
      "Epoch 124/180\n",
      "355/355 [==============================] - 3s 7ms/step - loss: 0.2863 - acc: 0.9380 - val_loss: 2.9540 - val_acc: 0.4571\n",
      "Epoch 125/180\n",
      "355/355 [==============================] - 3s 7ms/step - loss: 0.2591 - acc: 0.9577 - val_loss: 2.9483 - val_acc: 0.4914\n",
      "Epoch 126/180\n",
      "355/355 [==============================] - 3s 7ms/step - loss: 0.3821 - acc: 0.9127 - val_loss: 2.8345 - val_acc: 0.4571\n",
      "Epoch 127/180\n",
      "355/355 [==============================] - 3s 7ms/step - loss: 0.2595 - acc: 0.9380 - val_loss: 2.9352 - val_acc: 0.4514\n",
      "Epoch 128/180\n",
      "355/355 [==============================] - 3s 7ms/step - loss: 0.2866 - acc: 0.9521 - val_loss: 2.9515 - val_acc: 0.4400\n",
      "Epoch 129/180\n",
      "355/355 [==============================] - 3s 7ms/step - loss: 0.2907 - acc: 0.9437 - val_loss: 3.0451 - val_acc: 0.4343\n",
      "Epoch 130/180\n",
      "355/355 [==============================] - 3s 7ms/step - loss: 0.3161 - acc: 0.9296 - val_loss: 2.8425 - val_acc: 0.4571\n",
      "Epoch 131/180\n",
      "355/355 [==============================] - 3s 7ms/step - loss: 0.3036 - acc: 0.9437 - val_loss: 2.5780 - val_acc: 0.4914\n",
      "Epoch 132/180\n",
      "355/355 [==============================] - 3s 7ms/step - loss: 0.3219 - acc: 0.9324 - val_loss: 2.7576 - val_acc: 0.4629\n",
      "Epoch 133/180\n",
      "355/355 [==============================] - 3s 7ms/step - loss: 0.2704 - acc: 0.9437 - val_loss: 2.8444 - val_acc: 0.4686\n",
      "Epoch 134/180\n",
      "355/355 [==============================] - 3s 7ms/step - loss: 0.2693 - acc: 0.9380 - val_loss: 2.8160 - val_acc: 0.4400\n",
      "Epoch 135/180\n",
      "355/355 [==============================] - 3s 7ms/step - loss: 0.3222 - acc: 0.9408 - val_loss: 2.8384 - val_acc: 0.4686\n",
      "Epoch 136/180\n",
      "355/355 [==============================] - 3s 7ms/step - loss: 0.2899 - acc: 0.9521 - val_loss: 2.6923 - val_acc: 0.4743\n",
      "Epoch 137/180\n",
      "355/355 [==============================] - 3s 7ms/step - loss: 0.2476 - acc: 0.9521 - val_loss: 3.0668 - val_acc: 0.4286\n",
      "Epoch 138/180\n",
      "355/355 [==============================] - 3s 7ms/step - loss: 0.2585 - acc: 0.9549 - val_loss: 2.8275 - val_acc: 0.4629\n",
      "Epoch 139/180\n",
      "355/355 [==============================] - 3s 7ms/step - loss: 0.3100 - acc: 0.9380 - val_loss: 2.9145 - val_acc: 0.4400\n",
      "Epoch 140/180\n",
      "355/355 [==============================] - 3s 7ms/step - loss: 0.3054 - acc: 0.9380 - val_loss: 2.7656 - val_acc: 0.4343\n",
      "Epoch 141/180\n",
      "355/355 [==============================] - 3s 7ms/step - loss: 0.2977 - acc: 0.9268 - val_loss: 2.9131 - val_acc: 0.4457\n",
      "Epoch 142/180\n",
      "355/355 [==============================] - 3s 7ms/step - loss: 0.2680 - acc: 0.9549 - val_loss: 2.9315 - val_acc: 0.4514\n",
      "Epoch 143/180\n",
      "355/355 [==============================] - 3s 7ms/step - loss: 0.3301 - acc: 0.9352 - val_loss: 3.0346 - val_acc: 0.4286\n",
      "Epoch 144/180\n",
      "355/355 [==============================] - 3s 7ms/step - loss: 0.2800 - acc: 0.9521 - val_loss: 3.0032 - val_acc: 0.4514\n",
      "Epoch 145/180\n",
      "355/355 [==============================] - 3s 7ms/step - loss: 0.2505 - acc: 0.9521 - val_loss: 3.1731 - val_acc: 0.4343\n",
      "Epoch 146/180\n",
      "355/355 [==============================] - 3s 7ms/step - loss: 0.2944 - acc: 0.9549 - val_loss: 2.6778 - val_acc: 0.4743\n",
      "Epoch 147/180\n",
      "355/355 [==============================] - 3s 7ms/step - loss: 0.3186 - acc: 0.9268 - val_loss: 2.8422 - val_acc: 0.4571\n",
      "Epoch 148/180\n",
      "355/355 [==============================] - 3s 7ms/step - loss: 0.2906 - acc: 0.9521 - val_loss: 2.7102 - val_acc: 0.4857\n",
      "Epoch 149/180\n",
      "355/355 [==============================] - 3s 7ms/step - loss: 0.2332 - acc: 0.9634 - val_loss: 2.8889 - val_acc: 0.4629\n",
      "Epoch 150/180\n",
      "355/355 [==============================] - 3s 7ms/step - loss: 0.3069 - acc: 0.9352 - val_loss: 2.8452 - val_acc: 0.4571\n",
      "Epoch 151/180\n",
      "355/355 [==============================] - 3s 7ms/step - loss: 0.3384 - acc: 0.9408 - val_loss: 3.0168 - val_acc: 0.4457\n",
      "Epoch 152/180\n",
      "355/355 [==============================] - 3s 7ms/step - loss: 0.3292 - acc: 0.9324 - val_loss: 2.9454 - val_acc: 0.4343\n",
      "Epoch 153/180\n",
      "355/355 [==============================] - 3s 7ms/step - loss: 0.2697 - acc: 0.9521 - val_loss: 3.1973 - val_acc: 0.4343\n",
      "Epoch 154/180\n",
      "355/355 [==============================] - 3s 7ms/step - loss: 0.3401 - acc: 0.9211 - val_loss: 2.6488 - val_acc: 0.4857\n",
      "Epoch 155/180\n",
      "355/355 [==============================] - 3s 7ms/step - loss: 0.2189 - acc: 0.9606 - val_loss: 3.0146 - val_acc: 0.4571\n",
      "Epoch 156/180\n",
      "355/355 [==============================] - 3s 7ms/step - loss: 0.2717 - acc: 0.9352 - val_loss: 2.8720 - val_acc: 0.4457\n",
      "Epoch 157/180\n",
      "355/355 [==============================] - 3s 7ms/step - loss: 0.3399 - acc: 0.9183 - val_loss: 2.8619 - val_acc: 0.4514\n",
      "Epoch 158/180\n",
      "355/355 [==============================] - 3s 7ms/step - loss: 0.3134 - acc: 0.9521 - val_loss: 2.8949 - val_acc: 0.4514\n",
      "Epoch 159/180\n",
      "355/355 [==============================] - 3s 7ms/step - loss: 0.2825 - acc: 0.9549 - val_loss: 2.5624 - val_acc: 0.4971\n",
      "Epoch 160/180\n",
      "355/355 [==============================] - 3s 7ms/step - loss: 0.2950 - acc: 0.9437 - val_loss: 2.8799 - val_acc: 0.4286\n",
      "Epoch 161/180\n",
      "355/355 [==============================] - 3s 7ms/step - loss: 0.3039 - acc: 0.9352 - val_loss: 2.7057 - val_acc: 0.4514\n",
      "Epoch 162/180\n",
      "355/355 [==============================] - 3s 7ms/step - loss: 0.3027 - acc: 0.9408 - val_loss: 2.8546 - val_acc: 0.4743\n",
      "Epoch 163/180\n",
      "355/355 [==============================] - 3s 7ms/step - loss: 0.2713 - acc: 0.9437 - val_loss: 2.9206 - val_acc: 0.4571\n",
      "Epoch 164/180\n",
      "355/355 [==============================] - 3s 7ms/step - loss: 0.2397 - acc: 0.9634 - val_loss: 3.0262 - val_acc: 0.4457\n",
      "Epoch 165/180\n",
      "355/355 [==============================] - 3s 7ms/step - loss: 0.2486 - acc: 0.9549 - val_loss: 2.8814 - val_acc: 0.4686\n",
      "Epoch 166/180\n",
      "355/355 [==============================] - 3s 7ms/step - loss: 0.2764 - acc: 0.9324 - val_loss: 2.8723 - val_acc: 0.4629\n",
      "Epoch 167/180\n",
      "355/355 [==============================] - 3s 7ms/step - loss: 0.2503 - acc: 0.9577 - val_loss: 3.0520 - val_acc: 0.4571\n",
      "Epoch 168/180\n",
      "355/355 [==============================] - 3s 7ms/step - loss: 0.2847 - acc: 0.9352 - val_loss: 2.8759 - val_acc: 0.4629\n",
      "Epoch 169/180\n",
      "355/355 [==============================] - 3s 7ms/step - loss: 0.2595 - acc: 0.9521 - val_loss: 2.9301 - val_acc: 0.4286\n",
      "Epoch 170/180\n",
      "355/355 [==============================] - 3s 7ms/step - loss: 0.2433 - acc: 0.9577 - val_loss: 2.8808 - val_acc: 0.4686\n",
      "Epoch 171/180\n",
      "355/355 [==============================] - 3s 7ms/step - loss: 0.3281 - acc: 0.9296 - val_loss: 2.4959 - val_acc: 0.4914\n",
      "Epoch 172/180\n",
      "355/355 [==============================] - 3s 7ms/step - loss: 0.3204 - acc: 0.9352 - val_loss: 2.7922 - val_acc: 0.4514\n",
      "Epoch 173/180\n",
      "355/355 [==============================] - 3s 7ms/step - loss: 0.3028 - acc: 0.9352 - val_loss: 2.7987 - val_acc: 0.4629\n",
      "Epoch 174/180\n",
      "355/355 [==============================] - 3s 7ms/step - loss: 0.3089 - acc: 0.9380 - val_loss: 2.7433 - val_acc: 0.4629\n",
      "Epoch 175/180\n",
      "355/355 [==============================] - 3s 7ms/step - loss: 0.2975 - acc: 0.9408 - val_loss: 2.9804 - val_acc: 0.4000\n",
      "Epoch 176/180\n",
      "355/355 [==============================] - 3s 7ms/step - loss: 0.2981 - acc: 0.9380 - val_loss: 2.8935 - val_acc: 0.4629\n",
      "Epoch 177/180\n",
      "355/355 [==============================] - 3s 7ms/step - loss: 0.2963 - acc: 0.9437 - val_loss: 2.8406 - val_acc: 0.4457\n",
      "Epoch 178/180\n",
      "355/355 [==============================] - 3s 7ms/step - loss: 0.3086 - acc: 0.9352 - val_loss: 2.6193 - val_acc: 0.4571\n",
      "Epoch 179/180\n",
      "355/355 [==============================] - 3s 7ms/step - loss: 0.2894 - acc: 0.9352 - val_loss: 2.4575 - val_acc: 0.4800\n",
      "Epoch 180/180\n",
      "355/355 [==============================] - 3s 7ms/step - loss: 0.2877 - acc: 0.9606 - val_loss: 2.8707 - val_acc: 0.4286\n"
     ]
    }
   ],
   "source": [
    "# history = model.fit(x_train,y_train,validation_data=(x_validation,y_validation),batch_size=32,epochs=80)\n",
    "history = model.fit(x_train,y_train,validation_split=0.33,batch_size=32,epochs=180)"
   ]
  },
  {
   "cell_type": "code",
   "execution_count": 32,
   "metadata": {},
   "outputs": [
    {
     "name": "stdout",
     "output_type": "stream",
     "text": [
      "530/530 [==============================] - 1s 1ms/step\n"
     ]
    },
    {
     "data": {
      "text/plain": [
       "[1.074825984576963, 0.7924528121948242]"
      ]
     },
     "execution_count": 32,
     "metadata": {},
     "output_type": "execute_result"
    }
   ],
   "source": [
    "model.evaluate(x_train,y_train)"
   ]
  },
  {
   "cell_type": "code",
   "execution_count": 33,
   "metadata": {},
   "outputs": [
    {
     "name": "stdout",
     "output_type": "stream",
     "text": [
      "130/130 [==============================] - 0s 1ms/step\n"
     ]
    },
    {
     "data": {
      "text/plain": [
       "[2.9406635724581207, 0.42307692766189575]"
      ]
     },
     "execution_count": 33,
     "metadata": {},
     "output_type": "execute_result"
    }
   ],
   "source": [
    "model.evaluate(x_validation,y_validation)"
   ]
  },
  {
   "cell_type": "code",
   "execution_count": 34,
   "metadata": {},
   "outputs": [
    {
     "name": "stdout",
     "output_type": "stream",
     "text": [
      "131/131 [==============================] - 0s 1ms/step\n"
     ]
    },
    {
     "data": {
      "text/plain": [
       "[2.8266271198068864, 0.39694657921791077]"
      ]
     },
     "execution_count": 34,
     "metadata": {},
     "output_type": "execute_result"
    }
   ],
   "source": [
    "model.evaluate(x_test,y_test)"
   ]
  },
  {
   "cell_type": "code",
   "execution_count": 35,
   "metadata": {},
   "outputs": [
    {
     "data": {
      "text/plain": [
       "dict_keys(['val_loss', 'val_acc', 'loss', 'acc'])"
      ]
     },
     "execution_count": 35,
     "metadata": {},
     "output_type": "execute_result"
    }
   ],
   "source": [
    "history.history.keys()"
   ]
  },
  {
   "cell_type": "code",
   "execution_count": 36,
   "metadata": {},
   "outputs": [],
   "source": [
    "f = open('history.txt','w')\n",
    "f.write(str(history.history))\n",
    "f.close()"
   ]
  },
  {
   "cell_type": "code",
   "execution_count": null,
   "metadata": {},
   "outputs": [],
   "source": []
  },
  {
   "cell_type": "code",
   "execution_count": null,
   "metadata": {},
   "outputs": [],
   "source": []
  },
  {
   "cell_type": "code",
   "execution_count": null,
   "metadata": {},
   "outputs": [],
   "source": []
  },
  {
   "cell_type": "code",
   "execution_count": null,
   "metadata": {},
   "outputs": [],
   "source": []
  }
 ],
 "metadata": {
  "kernelspec": {
   "display_name": "tensorflow",
   "language": "python",
   "name": "tensorflow"
  },
  "language_info": {
   "codemirror_mode": {
    "name": "ipython",
    "version": 3
   },
   "file_extension": ".py",
   "mimetype": "text/x-python",
   "name": "python",
   "nbconvert_exporter": "python",
   "pygments_lexer": "ipython3",
   "version": "3.7.6"
  }
 },
 "nbformat": 4,
 "nbformat_minor": 4
}
