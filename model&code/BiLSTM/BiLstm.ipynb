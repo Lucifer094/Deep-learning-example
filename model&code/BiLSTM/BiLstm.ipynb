{
 "cells": [
  {
   "cell_type": "markdown",
   "metadata": {},
   "source": [
    "# LSTM(Long Short-Trem Memnory) & Bi-LSTM(Bi-Directional Long Short-Trem Memnory)"
   ]
  },
  {
   "cell_type": "markdown",
   "metadata": {},
   "source": [
    "Download the data and preprocessing it."
   ]
  },
  {
   "cell_type": "code",
   "execution_count": 47,
   "metadata": {},
   "outputs": [],
   "source": [
    "import pandas as pd\n",
    "\n",
    "# Reading the data and store them in DataFrame.\n",
    "answer_all = pd.read_csv('../data/student1ch_expand.csv', encoding='utf-8')\n",
    "question_all = pd.read_excel(\"../data/questions_ch.xlsx\")\n",
    "reference_all = pd.read_csv(\"../data/reference_answers_extended_ch.csv\", encoding='utf-8')\n",
    "\n",
    "# Extract the students` answers, the question`s describition and references of question 36.\n",
    "answer_ext = answer_all[answer_all.Question_ID==36]\n",
    "question_ext = question_all[question_all.Question_ID==36]\n",
    "reference_ext = reference_all[reference_all.Question_ID==36]"
   ]
  },
  {
   "cell_type": "code",
   "execution_count": 48,
   "metadata": {},
   "outputs": [
    {
     "data": {
      "text/html": [
       "<div>\n",
       "<style scoped>\n",
       "    .dataframe tbody tr th:only-of-type {\n",
       "        vertical-align: middle;\n",
       "    }\n",
       "\n",
       "    .dataframe tbody tr th {\n",
       "        vertical-align: top;\n",
       "    }\n",
       "\n",
       "    .dataframe thead th {\n",
       "        text-align: right;\n",
       "    }\n",
       "</style>\n",
       "<table border=\"1\" class=\"dataframe\">\n",
       "  <thead>\n",
       "    <tr style=\"text-align: right;\">\n",
       "      <th></th>\n",
       "      <th>Question_ID</th>\n",
       "      <th>answer_text</th>\n",
       "      <th>answer_cut</th>\n",
       "      <th>words_num</th>\n",
       "      <th>score</th>\n",
       "    </tr>\n",
       "  </thead>\n",
       "  <tbody>\n",
       "    <tr>\n",
       "      <th>0</th>\n",
       "      <td>36</td>\n",
       "      <td>动物细胞是指构成动物界中所有生物的细胞，由质膜，细胞质和真核组成。植物细胞含有诸如细胞壁，质...</td>\n",
       "      <td>动物细胞 是 指 构成 动物界 中 所有 生物 的 细胞 由 质膜 细胞质 和 真核 组成 ...</td>\n",
       "      <td>27</td>\n",
       "      <td>3</td>\n",
       "    </tr>\n",
       "    <tr>\n",
       "      <th>1</th>\n",
       "      <td>36</td>\n",
       "      <td>\\像原核生物一样-因为有膜，所以不可见。前细菌\\真核生物-可见是否存在于核膜中\\例如：动植物...</td>\n",
       "      <td>像 原核 生物 一样 因为 有膜 所以 不 可见 前 细菌 真核 生物 可见 是否 存在 于...</td>\n",
       "      <td>21</td>\n",
       "      <td>1</td>\n",
       "    </tr>\n",
       "    <tr>\n",
       "      <th>2</th>\n",
       "      <td>36</td>\n",
       "      <td>在植物中，细胞中有一堵壁，而在动物细胞内衬有一层膜，而在动物细胞中则没有</td>\n",
       "      <td>在 植物 中 细胞 中有 一堵 壁 而 在 动物细胞 内衬 有 一层 膜 而 在 动物细胞 ...</td>\n",
       "      <td>19</td>\n",
       "      <td>2</td>\n",
       "    </tr>\n",
       "    <tr>\n",
       "      <th>3</th>\n",
       "      <td>36</td>\n",
       "      <td>植物细胞具有细胞壁</td>\n",
       "      <td>植物 细胞 具有 细胞壁</td>\n",
       "      <td>4</td>\n",
       "      <td>3</td>\n",
       "    </tr>\n",
       "    <tr>\n",
       "      <th>4</th>\n",
       "      <td>36</td>\n",
       "      <td>一个没有墙，另一个有</td>\n",
       "      <td>一个 没有 墙 另 一个 有</td>\n",
       "      <td>6</td>\n",
       "      <td>2</td>\n",
       "    </tr>\n",
       "    <tr>\n",
       "      <th>...</th>\n",
       "      <td>...</td>\n",
       "      <td>...</td>\n",
       "      <td>...</td>\n",
       "      <td>...</td>\n",
       "      <td>...</td>\n",
       "    </tr>\n",
       "    <tr>\n",
       "      <th>244</th>\n",
       "      <td>36</td>\n",
       "      <td>植物细胞具有细胞壁，而动物则没有。蔬菜有叶绿体</td>\n",
       "      <td>植物 细胞 具有 细胞壁 而 动物 则 没有 蔬菜 有 叶绿体</td>\n",
       "      <td>11</td>\n",
       "      <td>3</td>\n",
       "    </tr>\n",
       "    <tr>\n",
       "      <th>245</th>\n",
       "      <td>36</td>\n",
       "      <td>植物有叶绿体，疫苗，细胞壁，动物没有</td>\n",
       "      <td>植物 有 叶绿体 疫苗 细胞壁 动物 没有</td>\n",
       "      <td>7</td>\n",
       "      <td>2</td>\n",
       "    </tr>\n",
       "    <tr>\n",
       "      <th>246</th>\n",
       "      <td>36</td>\n",
       "      <td>游戏与植物进行光合作用</td>\n",
       "      <td>游戏 与 植物 进行 光合作用</td>\n",
       "      <td>5</td>\n",
       "      <td>1</td>\n",
       "    </tr>\n",
       "    <tr>\n",
       "      <th>247</th>\n",
       "      <td>36</td>\n",
       "      <td>蔬菜中含有叶绿体，而动物则不含。</td>\n",
       "      <td>蔬菜 中 含有 叶绿体 而 动物 则 不 含</td>\n",
       "      <td>9</td>\n",
       "      <td>3</td>\n",
       "    </tr>\n",
       "    <tr>\n",
       "      <th>248</th>\n",
       "      <td>36</td>\n",
       "      <td>动物有一个蔬菜库</td>\n",
       "      <td>动物 有 一个 蔬菜 库</td>\n",
       "      <td>5</td>\n",
       "      <td>0</td>\n",
       "    </tr>\n",
       "  </tbody>\n",
       "</table>\n",
       "<p>249 rows × 5 columns</p>\n",
       "</div>"
      ],
      "text/plain": [
       "     Question_ID                                        answer_text  \\\n",
       "0             36  动物细胞是指构成动物界中所有生物的细胞，由质膜，细胞质和真核组成。植物细胞含有诸如细胞壁，质...   \n",
       "1             36  \\像原核生物一样-因为有膜，所以不可见。前细菌\\真核生物-可见是否存在于核膜中\\例如：动植物...   \n",
       "2             36               在植物中，细胞中有一堵壁，而在动物细胞内衬有一层膜，而在动物细胞中则没有   \n",
       "3             36                                          植物细胞具有细胞壁   \n",
       "4             36                                         一个没有墙，另一个有   \n",
       "..           ...                                                ...   \n",
       "244           36                            植物细胞具有细胞壁，而动物则没有。蔬菜有叶绿体   \n",
       "245           36                                 植物有叶绿体，疫苗，细胞壁，动物没有   \n",
       "246           36                                        游戏与植物进行光合作用   \n",
       "247           36                                   蔬菜中含有叶绿体，而动物则不含。   \n",
       "248           36                                           动物有一个蔬菜库   \n",
       "\n",
       "                                            answer_cut  words_num  score  \n",
       "0    动物细胞 是 指 构成 动物界 中 所有 生物 的 细胞 由 质膜 细胞质 和 真核 组成 ...         27      3  \n",
       "1    像 原核 生物 一样 因为 有膜 所以 不 可见 前 细菌 真核 生物 可见 是否 存在 于...         21      1  \n",
       "2    在 植物 中 细胞 中有 一堵 壁 而 在 动物细胞 内衬 有 一层 膜 而 在 动物细胞 ...         19      2  \n",
       "3                                        植物 细胞 具有 细胞壁           4      3  \n",
       "4                                      一个 没有 墙 另 一个 有           6      2  \n",
       "..                                                 ...        ...    ...  \n",
       "244                   植物 细胞 具有 细胞壁 而 动物 则 没有 蔬菜 有 叶绿体          11      3  \n",
       "245                             植物 有 叶绿体 疫苗 细胞壁 动物 没有           7      2  \n",
       "246                                   游戏 与 植物 进行 光合作用           5      1  \n",
       "247                            蔬菜 中 含有 叶绿体 而 动物 则 不 含           9      3  \n",
       "248                                      动物 有 一个 蔬菜 库           5      0  \n",
       "\n",
       "[249 rows x 5 columns]"
      ]
     },
     "execution_count": 48,
     "metadata": {},
     "output_type": "execute_result"
    }
   ],
   "source": [
    "answer_ext"
   ]
  },
  {
   "cell_type": "code",
   "execution_count": 49,
   "metadata": {},
   "outputs": [
    {
     "data": {
      "text/html": [
       "<div>\n",
       "<style scoped>\n",
       "    .dataframe tbody tr th:only-of-type {\n",
       "        vertical-align: middle;\n",
       "    }\n",
       "\n",
       "    .dataframe tbody tr th {\n",
       "        vertical-align: top;\n",
       "    }\n",
       "\n",
       "    .dataframe thead th {\n",
       "        text-align: right;\n",
       "    }\n",
       "</style>\n",
       "<table border=\"1\" class=\"dataframe\">\n",
       "  <thead>\n",
       "    <tr style=\"text-align: right;\">\n",
       "      <th></th>\n",
       "      <th>Question_ID</th>\n",
       "      <th>refence_text</th>\n",
       "      <th>answer_cut</th>\n",
       "      <th>words_num</th>\n",
       "    </tr>\n",
       "  </thead>\n",
       "  <tbody>\n",
       "    <tr>\n",
       "      <th>0</th>\n",
       "      <td>36</td>\n",
       "      <td>动物细胞具有不规则形状，而植物细胞具有固定形状。植物细胞具有细胞壁，因为它是排他性的。动物细...</td>\n",
       "      <td>动物细胞 具有 不规则 形状 而 植物 细胞 具有 固定 形状 植物 细胞 具有 细胞壁 因...</td>\n",
       "      <td>26</td>\n",
       "    </tr>\n",
       "    <tr>\n",
       "      <th>1</th>\n",
       "      <td>36</td>\n",
       "      <td>在植物中，除质膜外，细胞还具有在其外部排列的壁。该细胞壁主要由纤维素形成，可确保对植物细胞具...</td>\n",
       "      <td>在 植物 中 除 质膜 外 细胞 还 具有 在 其 外部 排列 的 壁 该 细胞壁 主要 由...</td>\n",
       "      <td>36</td>\n",
       "    </tr>\n",
       "    <tr>\n",
       "      <th>2</th>\n",
       "      <td>36</td>\n",
       "      <td>在植物细胞中有叶绿体，纤维素细胞壁和搏动性空泡</td>\n",
       "      <td>在 植物 细胞 中有 叶绿体 纤维素 细胞壁 和 搏动 性 空泡</td>\n",
       "      <td>11</td>\n",
       "    </tr>\n",
       "    <tr>\n",
       "      <th>3</th>\n",
       "      <td>36</td>\n",
       "      <td>动植物细胞具有不同的形状。动物细胞具有不规则形状，而植物细胞具有固定形状。</td>\n",
       "      <td>动植物 细胞 具有 不同 的 形状 动物细胞 具有 不规则 形状 而 植物 细胞 具有 固定...</td>\n",
       "      <td>16</td>\n",
       "    </tr>\n",
       "    <tr>\n",
       "      <th>4</th>\n",
       "      <td>36</td>\n",
       "      <td>动物细胞是指构成动物界中所有生物的细胞，由质膜，细胞质和真核组成。植物细胞含有诸如细胞壁，质...</td>\n",
       "      <td>动物细胞 是 指 构成 动物界 中 所有 生物 的 细胞 由 质膜 细胞质 和 真核 组成 ...</td>\n",
       "      <td>27</td>\n",
       "    </tr>\n",
       "    <tr>\n",
       "      <th>5</th>\n",
       "      <td>36</td>\n",
       "      <td>空泡，质体和细胞壁的存在</td>\n",
       "      <td>空泡 质体 和 细胞壁 的 存在</td>\n",
       "      <td>6</td>\n",
       "    </tr>\n",
       "    <tr>\n",
       "      <th>6</th>\n",
       "      <td>36</td>\n",
       "      <td>细胞壁是植物细胞的独特结构。它对应于质膜外部的包装纸。</td>\n",
       "      <td>细胞壁 是 植物 细胞 的 独特 结构 它 对应 于 质膜 外部 的 包装纸</td>\n",
       "      <td>14</td>\n",
       "    </tr>\n",
       "    <tr>\n",
       "      <th>7</th>\n",
       "      <td>36</td>\n",
       "      <td>在将植物细胞与动物区分开的差异中，我们可以突出显示液泡，质体和细胞壁的存在。在细胞质中，一些...</td>\n",
       "      <td>在 将 植物 细胞 与 动物 区分 开 的 差异 中 我们 可以 突出 显示 液泡 质体 和...</td>\n",
       "      <td>31</td>\n",
       "    </tr>\n",
       "  </tbody>\n",
       "</table>\n",
       "</div>"
      ],
      "text/plain": [
       "   Question_ID                                       refence_text  \\\n",
       "0           36  动物细胞具有不规则形状，而植物细胞具有固定形状。植物细胞具有细胞壁，因为它是排他性的。动物细...   \n",
       "1           36  在植物中，除质膜外，细胞还具有在其外部排列的壁。该细胞壁主要由纤维素形成，可确保对植物细胞具...   \n",
       "2           36                            在植物细胞中有叶绿体，纤维素细胞壁和搏动性空泡   \n",
       "3           36              动植物细胞具有不同的形状。动物细胞具有不规则形状，而植物细胞具有固定形状。   \n",
       "4           36  动物细胞是指构成动物界中所有生物的细胞，由质膜，细胞质和真核组成。植物细胞含有诸如细胞壁，质...   \n",
       "5           36                                       空泡，质体和细胞壁的存在   \n",
       "6           36                        细胞壁是植物细胞的独特结构。它对应于质膜外部的包装纸。   \n",
       "7           36  在将植物细胞与动物区分开的差异中，我们可以突出显示液泡，质体和细胞壁的存在。在细胞质中，一些...   \n",
       "\n",
       "                                          answer_cut  words_num  \n",
       "0  动物细胞 具有 不规则 形状 而 植物 细胞 具有 固定 形状 植物 细胞 具有 细胞壁 因...         26  \n",
       "1  在 植物 中 除 质膜 外 细胞 还 具有 在 其 外部 排列 的 壁 该 细胞壁 主要 由...         36  \n",
       "2                  在 植物 细胞 中有 叶绿体 纤维素 细胞壁 和 搏动 性 空泡          11  \n",
       "3  动植物 细胞 具有 不同 的 形状 动物细胞 具有 不规则 形状 而 植物 细胞 具有 固定...         16  \n",
       "4  动物细胞 是 指 构成 动物界 中 所有 生物 的 细胞 由 质膜 细胞质 和 真核 组成 ...         27  \n",
       "5                                  空泡 质体 和 细胞壁 的 存在           6  \n",
       "6            细胞壁 是 植物 细胞 的 独特 结构 它 对应 于 质膜 外部 的 包装纸          14  \n",
       "7  在 将 植物 细胞 与 动物 区分 开 的 差异 中 我们 可以 突出 显示 液泡 质体 和...         31  "
      ]
     },
     "execution_count": 49,
     "metadata": {},
     "output_type": "execute_result"
    }
   ],
   "source": [
    "reference_ext"
   ]
  },
  {
   "cell_type": "code",
   "execution_count": 50,
   "metadata": {},
   "outputs": [
    {
     "data": {
      "text/html": [
       "<div>\n",
       "<style scoped>\n",
       "    .dataframe tbody tr th:only-of-type {\n",
       "        vertical-align: middle;\n",
       "    }\n",
       "\n",
       "    .dataframe tbody tr th {\n",
       "        vertical-align: top;\n",
       "    }\n",
       "\n",
       "    .dataframe thead th {\n",
       "        text-align: right;\n",
       "    }\n",
       "</style>\n",
       "<table border=\"1\" class=\"dataframe\">\n",
       "  <thead>\n",
       "    <tr style=\"text-align: right;\">\n",
       "      <th></th>\n",
       "      <th>Question_ID</th>\n",
       "      <th>问题文本</th>\n",
       "    </tr>\n",
       "  </thead>\n",
       "  <tbody>\n",
       "    <tr>\n",
       "      <th>0</th>\n",
       "      <td>36</td>\n",
       "      <td>动物细胞和植物细胞有什么区别？</td>\n",
       "    </tr>\n",
       "  </tbody>\n",
       "</table>\n",
       "</div>"
      ],
      "text/plain": [
       "   Question_ID             问题文本\n",
       "0           36  动物细胞和植物细胞有什么区别？"
      ]
     },
     "execution_count": 50,
     "metadata": {},
     "output_type": "execute_result"
    }
   ],
   "source": [
    "question_ext"
   ]
  },
  {
   "cell_type": "markdown",
   "metadata": {},
   "source": [
    "### Try to anylise the data."
   ]
  },
  {
   "cell_type": "code",
   "execution_count": 102,
   "metadata": {},
   "outputs": [],
   "source": [
    "import pandas as pd\n",
    "import numpy as np\n",
    "import matplotlib.pyplot as plt\n",
    "import seaborn as sns\n",
    "from sklearn import metrics\n",
    "from sklearn.preprocessing import LabelEncoder,OneHotEncoder\n",
    "from keras.models import Model\n",
    "from keras.layers import LSTM, Activation, Dense, Dropout, Input, Embedding, Bidirectional\n",
    "from keras.optimizers import RMSprop\n",
    "from keras.preprocessing.text import Tokenizer\n",
    "from keras.preprocessing import sequence\n",
    "from keras.callbacks import EarlyStopping"
   ]
  },
  {
   "cell_type": "code",
   "execution_count": 51,
   "metadata": {},
   "outputs": [],
   "source": [
    "import matplotlib.pyplot as plt\n",
    "plt.rcParams['font.family'] = ['Arial Unicode MS']  # Show the Chinese words.(Mac OS)"
   ]
  },
  {
   "cell_type": "code",
   "execution_count": 52,
   "metadata": {},
   "outputs": [
    {
     "name": "stderr",
     "output_type": "stream",
     "text": [
      "/Users/zhangxin/opt/anaconda3/envs/tensorflow/lib/python3.7/site-packages/seaborn/_decorators.py:43: FutureWarning: Pass the following variable as a keyword arg: x. From version 0.12, the only valid positional argument will be `data`, and passing other arguments without an explicit keyword will result in an error or misinterpretation.\n",
      "  FutureWarning\n"
     ]
    },
    {
     "data": {
      "image/png": "[encoded data removed]",
      "text/plain": [
       "<Figure size 432x288 with 1 Axes>"
      ]
     },
     "metadata": {
      "needs_background": "light"
     },
     "output_type": "display_data"
    }
   ],
   "source": [
    "plt.figure()\n",
    "sns.countplot(answer_ext.score)\n",
    "plt.xlabel('Label', size = 10)\n",
    "plt.xticks( size = 10)\n",
    "plt.show()"
   ]
  },
  {
   "cell_type": "code",
   "execution_count": 53,
   "metadata": {},
   "outputs": [
    {
     "name": "stdout",
     "output_type": "stream",
     "text": [
      "count    249.000000\n",
      "mean      10.389558\n",
      "std        7.629847\n",
      "min        0.000000\n",
      "25%        6.000000\n",
      "50%        8.000000\n",
      "75%       14.000000\n",
      "max       47.000000\n",
      "Name: words_num, dtype: float64\n"
     ]
    },
    {
     "data": {
      "image/png": "[encoded data removed]",
      "text/plain": [
       "<Figure size 432x288 with 1 Axes>"
      ]
     },
     "metadata": {
      "needs_background": "light"
     },
     "output_type": "display_data"
    }
   ],
   "source": [
    "print(answer_ext.words_num.describe())\n",
    "plt.figure()\n",
    "plt.hist(answer_ext.words_num,bins=100)\n",
    "plt.xlabel(\"词组长度\",size = 12)\n",
    "plt.ylabel(\"频数\",size = 12)\n",
    "plt.title(\"训练数据集\")\n",
    "plt.show()"
   ]
  },
  {
   "cell_type": "markdown",
   "metadata": {},
   "source": [
    "Using one-hot encodding way to encode the lable of the data set."
   ]
  },
  {
   "cell_type": "code",
   "execution_count": 54,
   "metadata": {},
   "outputs": [],
   "source": [
    "le = LabelEncoder()\n",
    "data_y = le.fit_transform(answer_ext.score).reshape(-1,1)"
   ]
  },
  {
   "cell_type": "code",
   "execution_count": 55,
   "metadata": {},
   "outputs": [],
   "source": [
    "ohe = OneHotEncoder()\n",
    "data_y = ohe.fit_transform(data_y).toarray()"
   ]
  },
  {
   "cell_type": "markdown",
   "metadata": {},
   "source": [
    "### Using Tokenizer to encoding the word set."
   ]
  },
  {
   "cell_type": "code",
   "execution_count": 66,
   "metadata": {},
   "outputs": [],
   "source": [
    "max_words = 2000\n",
    "max_len = 40\n",
    "tok = Tokenizer(num_words=max_words)  ## The max word number is 5000\n",
    "tok.fit_on_texts(answer_ext.answer_cut.astype(str))"
   ]
  },
  {
   "cell_type": "code",
   "execution_count": 58,
   "metadata": {},
   "outputs": [
    {
     "name": "stdout",
     "output_type": "stream",
     "text": [
      "('细胞', 1)\n",
      "('植物', 2)\n",
      "('的', 3)\n",
      "('动物细胞', 4)\n",
      "('具有', 5)\n",
      "('细胞壁', 6)\n",
      "('是', 7)\n",
      "('而', 8)\n",
      "('和', 9)\n",
      "('没有', 10)\n",
      "===================\n",
      "('动物细胞', 120)\n",
      "('是', 74)\n",
      "('指', 1)\n",
      "('构成', 1)\n",
      "('动物界', 1)\n",
      "('中', 50)\n",
      "('所有', 3)\n",
      "('生物', 17)\n",
      "('的', 144)\n",
      "('细胞', 199)\n"
     ]
    }
   ],
   "source": [
    "for ii,iterm in enumerate(tok.word_index.items()):\n",
    "    if ii < 10:\n",
    "        print(iterm)\n",
    "    else:\n",
    "        break\n",
    "print(\"===================\")  \n",
    "for ii,iterm in enumerate(tok.word_counts.items()):\n",
    "    if ii < 10:\n",
    "        print(iterm)\n",
    "    else:\n",
    "        break"
   ]
  },
  {
   "cell_type": "markdown",
   "metadata": {},
   "source": [
    "Use tok.texts_to_sequences() change the data to sequence,and use sequence.pad_sequences() make every sequence to the same length."
   ]
  },
  {
   "cell_type": "code",
   "execution_count": 60,
   "metadata": {},
   "outputs": [],
   "source": [
    "data_seq = tok.texts_to_sequences(answer_ext.answer_cut.astype(str))"
   ]
  },
  {
   "cell_type": "code",
   "execution_count": 67,
   "metadata": {},
   "outputs": [],
   "source": [
    "data_seq_mat = sequence.pad_sequences(data_seq,maxlen=max_len)"
   ]
  },
  {
   "cell_type": "code",
   "execution_count": 69,
   "metadata": {},
   "outputs": [
    {
     "data": {
      "text/plain": [
       "(249, 40)"
      ]
     },
     "execution_count": 69,
     "metadata": {},
     "output_type": "execute_result"
    }
   ],
   "source": [
    "data_seq_mat.shape"
   ]
  },
  {
   "cell_type": "markdown",
   "metadata": {},
   "source": [
    "Make the data to three parts: train data, validation data, test data."
   ]
  },
  {
   "cell_type": "code",
   "execution_count": 73,
   "metadata": {},
   "outputs": [],
   "source": [
    "train_seq_mat = data_seq_mat[0:180]\n",
    "train_y = data_y[0:180]\n",
    "\n",
    "val_seq_mat = data_seq_mat[180:210]\n",
    "val_y = data_y[180:210]\n",
    "\n",
    "test_seq_mat = data_seq_mat[210:]\n",
    "test_y = data_y[210:]"
   ]
  },
  {
   "cell_type": "markdown",
   "metadata": {},
   "source": [
    "## 1.LSTM(Long Short-Trem Memnory)"
   ]
  },
  {
   "cell_type": "code",
   "execution_count": 76,
   "metadata": {},
   "outputs": [
    {
     "name": "stdout",
     "output_type": "stream",
     "text": [
      "Model: \"model_2\"\n",
      "_________________________________________________________________\n",
      "Layer (type)                 Output Shape              Param #   \n",
      "=================================================================\n",
      "inputs (InputLayer)          (None, 40)                0         \n",
      "_________________________________________________________________\n",
      "embedding_2 (Embedding)      (None, 40, 128)           256128    \n",
      "_________________________________________________________________\n",
      "lstm_2 (LSTM)                (None, 128)               131584    \n",
      "_________________________________________________________________\n",
      "FC1 (Dense)                  (None, 128)               16512     \n",
      "_________________________________________________________________\n",
      "dropout_2 (Dropout)          (None, 128)               0         \n",
      "_________________________________________________________________\n",
      "FC2 (Dense)                  (None, 4)                 516       \n",
      "=================================================================\n",
      "Total params: 404,740\n",
      "Trainable params: 404,740\n",
      "Non-trainable params: 0\n",
      "_________________________________________________________________\n"
     ]
    }
   ],
   "source": [
    "inputs = Input(name='inputs',shape=[max_len])\n",
    "## Embedding(size of word table,size of batch,length of every news)\n",
    "layer = Embedding(max_words+1,128,input_length=max_len)(inputs)\n",
    "layer = LSTM(128)(layer)\n",
    "layer = Dense(128,activation=\"relu\",name=\"FC1\")(layer)\n",
    "layer = Dropout(0.5)(layer)\n",
    "layer = Dense(4,activation=\"softmax\",name=\"FC2\")(layer)\n",
    "model = Model(inputs=inputs,outputs=layer)\n",
    "model.summary()\n",
    "model.compile(loss=\"categorical_crossentropy\",optimizer=RMSprop(),metrics=[\"accuracy\"])"
   ]
  },
  {
   "cell_type": "code",
   "execution_count": 77,
   "metadata": {},
   "outputs": [
    {
     "data": {
      "image/png": "[encoded data removed]",
      "text/plain": [
       "<IPython.core.display.Image object>"
      ]
     },
     "execution_count": 77,
     "metadata": {},
     "output_type": "execute_result"
    }
   ],
   "source": [
    "from keras.utils import plot_model\n",
    "plot_model(model, 'LSTM.png', show_shapes=True)"
   ]
  },
  {
   "cell_type": "code",
   "execution_count": 80,
   "metadata": {},
   "outputs": [
    {
     "name": "stdout",
     "output_type": "stream",
     "text": [
      "Train on 180 samples, validate on 30 samples\n",
      "Epoch 1/40\n",
      "180/180 [==============================] - 3s 15ms/step - loss: 0.4378 - accuracy: 0.8611 - val_loss: 1.1229 - val_accuracy: 0.6000\n",
      "Epoch 2/40\n",
      "180/180 [==============================] - 3s 15ms/step - loss: 0.3482 - accuracy: 0.8667 - val_loss: 1.3182 - val_accuracy: 0.6000\n",
      "Epoch 3/40\n",
      "180/180 [==============================] - 3s 15ms/step - loss: 0.3402 - accuracy: 0.9000 - val_loss: 1.4466 - val_accuracy: 0.5333\n",
      "Epoch 4/40\n",
      "180/180 [==============================] - 3s 15ms/step - loss: 0.2724 - accuracy: 0.8833 - val_loss: 1.5770 - val_accuracy: 0.4000\n",
      "Epoch 5/40\n",
      "180/180 [==============================] - 3s 15ms/step - loss: 0.2364 - accuracy: 0.9333 - val_loss: 1.3811 - val_accuracy: 0.5000\n",
      "Epoch 6/40\n",
      "180/180 [==============================] - 3s 15ms/step - loss: 0.2479 - accuracy: 0.9111 - val_loss: 1.5238 - val_accuracy: 0.5000\n",
      "Epoch 7/40\n",
      "180/180 [==============================] - 3s 15ms/step - loss: 0.2146 - accuracy: 0.9222 - val_loss: 1.6221 - val_accuracy: 0.5333\n",
      "Epoch 8/40\n",
      "180/180 [==============================] - 3s 15ms/step - loss: 0.2368 - accuracy: 0.9111 - val_loss: 1.6697 - val_accuracy: 0.5333\n",
      "Epoch 9/40\n",
      "180/180 [==============================] - 3s 15ms/step - loss: 0.1921 - accuracy: 0.9222 - val_loss: 1.5995 - val_accuracy: 0.5000\n",
      "Epoch 10/40\n",
      "180/180 [==============================] - 3s 15ms/step - loss: 0.1518 - accuracy: 0.9444 - val_loss: 1.9334 - val_accuracy: 0.5000\n",
      "Epoch 11/40\n",
      "180/180 [==============================] - 3s 15ms/step - loss: 0.1424 - accuracy: 0.9500 - val_loss: 1.9985 - val_accuracy: 0.5333\n",
      "Epoch 12/40\n",
      "180/180 [==============================] - 3s 15ms/step - loss: 0.1807 - accuracy: 0.9444 - val_loss: 2.1280 - val_accuracy: 0.4667\n",
      "Epoch 13/40\n",
      "180/180 [==============================] - 3s 15ms/step - loss: 0.1218 - accuracy: 0.9556 - val_loss: 2.1957 - val_accuracy: 0.5667\n",
      "Epoch 14/40\n",
      "180/180 [==============================] - 3s 15ms/step - loss: 0.1594 - accuracy: 0.9333 - val_loss: 2.2698 - val_accuracy: 0.5000\n",
      "Epoch 15/40\n",
      "180/180 [==============================] - 3s 15ms/step - loss: 0.1307 - accuracy: 0.9500 - val_loss: 2.2049 - val_accuracy: 0.5667\n",
      "Epoch 16/40\n",
      "180/180 [==============================] - 3s 15ms/step - loss: 0.0886 - accuracy: 0.9722 - val_loss: 2.4532 - val_accuracy: 0.5333\n",
      "Epoch 17/40\n",
      "180/180 [==============================] - 3s 15ms/step - loss: 0.0893 - accuracy: 0.9611 - val_loss: 2.5697 - val_accuracy: 0.5000\n",
      "Epoch 18/40\n",
      "180/180 [==============================] - 3s 15ms/step - loss: 0.0998 - accuracy: 0.9722 - val_loss: 3.2637 - val_accuracy: 0.4333\n",
      "Epoch 19/40\n",
      "180/180 [==============================] - 3s 15ms/step - loss: 0.0786 - accuracy: 0.9667 - val_loss: 2.8935 - val_accuracy: 0.6000\n",
      "Epoch 20/40\n",
      "180/180 [==============================] - 3s 15ms/step - loss: 0.0894 - accuracy: 0.9667 - val_loss: 2.6336 - val_accuracy: 0.5333\n",
      "Epoch 21/40\n",
      "180/180 [==============================] - 3s 15ms/step - loss: 0.0620 - accuracy: 0.9667 - val_loss: 2.6620 - val_accuracy: 0.5667\n",
      "Epoch 22/40\n",
      "180/180 [==============================] - 3s 15ms/step - loss: 0.0585 - accuracy: 0.9778 - val_loss: 2.8034 - val_accuracy: 0.5667\n",
      "Epoch 23/40\n",
      "180/180 [==============================] - 3s 15ms/step - loss: 0.0985 - accuracy: 0.9722 - val_loss: 2.8847 - val_accuracy: 0.5333\n",
      "Epoch 24/40\n",
      "180/180 [==============================] - 3s 15ms/step - loss: 0.0592 - accuracy: 0.9889 - val_loss: 2.7907 - val_accuracy: 0.5000\n",
      "Epoch 25/40\n",
      "180/180 [==============================] - 3s 15ms/step - loss: 0.0425 - accuracy: 0.9833 - val_loss: 3.2036 - val_accuracy: 0.4667\n",
      "Epoch 26/40\n",
      "180/180 [==============================] - 4s 22ms/step - loss: 0.0579 - accuracy: 0.9833 - val_loss: 3.2586 - val_accuracy: 0.4333\n",
      "Epoch 27/40\n",
      "180/180 [==============================] - 3s 17ms/step - loss: 0.0661 - accuracy: 0.9722 - val_loss: 3.0072 - val_accuracy: 0.4667\n",
      "Epoch 28/40\n",
      "180/180 [==============================] - 3s 15ms/step - loss: 0.0281 - accuracy: 0.9833 - val_loss: 2.9199 - val_accuracy: 0.4667\n",
      "Epoch 29/40\n",
      "180/180 [==============================] - 3s 15ms/step - loss: 0.0473 - accuracy: 0.9833 - val_loss: 3.4556 - val_accuracy: 0.5000\n",
      "Epoch 30/40\n",
      "180/180 [==============================] - 3s 15ms/step - loss: 0.1588 - accuracy: 0.9833 - val_loss: 3.0148 - val_accuracy: 0.4333\n",
      "Epoch 31/40\n",
      "180/180 [==============================] - 3s 15ms/step - loss: 0.0371 - accuracy: 0.9889 - val_loss: 3.0210 - val_accuracy: 0.4333\n",
      "Epoch 32/40\n",
      "180/180 [==============================] - 3s 15ms/step - loss: 0.0182 - accuracy: 0.9944 - val_loss: 3.2972 - val_accuracy: 0.4667\n",
      "Epoch 33/40\n",
      "180/180 [==============================] - 3s 15ms/step - loss: 0.0624 - accuracy: 0.9833 - val_loss: 3.0431 - val_accuracy: 0.5333\n",
      "Epoch 34/40\n",
      "180/180 [==============================] - 3s 15ms/step - loss: 0.0422 - accuracy: 0.9944 - val_loss: 3.1092 - val_accuracy: 0.5000\n",
      "Epoch 35/40\n",
      "180/180 [==============================] - 3s 15ms/step - loss: 0.0322 - accuracy: 0.9889 - val_loss: 3.4607 - val_accuracy: 0.5333\n",
      "Epoch 36/40\n",
      "180/180 [==============================] - 3s 15ms/step - loss: 0.0351 - accuracy: 0.9889 - val_loss: 3.2568 - val_accuracy: 0.4333\n",
      "Epoch 37/40\n",
      "180/180 [==============================] - 3s 15ms/step - loss: 0.0259 - accuracy: 0.9944 - val_loss: 3.2310 - val_accuracy: 0.5333\n",
      "Epoch 38/40\n",
      "180/180 [==============================] - 3s 15ms/step - loss: 0.0312 - accuracy: 0.9944 - val_loss: 3.2892 - val_accuracy: 0.4667\n",
      "Epoch 39/40\n",
      "180/180 [==============================] - 3s 15ms/step - loss: 0.0231 - accuracy: 0.9889 - val_loss: 3.6811 - val_accuracy: 0.4667\n",
      "Epoch 40/40\n",
      "180/180 [==============================] - 3s 15ms/step - loss: 0.0160 - accuracy: 0.9889 - val_loss: 3.5804 - val_accuracy: 0.5000\n"
     ]
    }
   ],
   "source": [
    "model_fit = model.fit(train_seq_mat,train_y,batch_size=8,epochs=40,\n",
    "                      validation_data=(val_seq_mat,val_y),\n",
    "#                       callbacks=[EarlyStopping(monitor='val_loss',min_delta=0.0001)] ## 当val-loss不再提升时停止训练\n",
    "                     )\n"
   ]
  },
  {
   "cell_type": "code",
   "execution_count": 91,
   "metadata": {},
   "outputs": [
    {
     "name": "stdout",
     "output_type": "stream",
     "text": [
      "39/39 [==============================] - 0s 3ms/step\n"
     ]
    }
   ],
   "source": [
    "# Using the test set to test the model.\n",
    "test_pre = model.evaluate(test_seq_mat, test_y)"
   ]
  },
  {
   "cell_type": "code",
   "execution_count": 92,
   "metadata": {},
   "outputs": [
    {
     "data": {
      "text/plain": [
       "[6.076312419695732, 0.4871794879436493]"
      ]
     },
     "execution_count": 92,
     "metadata": {},
     "output_type": "execute_result"
    }
   ],
   "source": [
    "test_pre"
   ]
  },
  {
   "cell_type": "code",
   "execution_count": 93,
   "metadata": {},
   "outputs": [
    {
     "data": {
      "text/plain": [
       "dict_keys(['val_loss', 'val_accuracy', 'loss', 'accuracy'])"
      ]
     },
     "execution_count": 93,
     "metadata": {},
     "output_type": "execute_result"
    }
   ],
   "source": [
    "model_fit.history.keys()"
   ]
  },
  {
   "cell_type": "code",
   "execution_count": 97,
   "metadata": {},
   "outputs": [
    {
     "data": {
      "text/plain": [
       "[0.6000000238418579,\n",
       " 0.6000000238418579,\n",
       " 0.5333333611488342,\n",
       " 0.4000000059604645,\n",
       " 0.5,\n",
       " 0.5,\n",
       " 0.5333333611488342,\n",
       " 0.5333333611488342,\n",
       " 0.5,\n",
       " 0.5,\n",
       " 0.5333333611488342,\n",
       " 0.46666666865348816,\n",
       " 0.5666666626930237,\n",
       " 0.5,\n",
       " 0.5666666626930237,\n",
       " 0.5333333611488342,\n",
       " 0.5,\n",
       " 0.4333333373069763,\n",
       " 0.6000000238418579,\n",
       " 0.5333333611488342,\n",
       " 0.5666666626930237,\n",
       " 0.5666666626930237,\n",
       " 0.5333333611488342,\n",
       " 0.5,\n",
       " 0.46666666865348816,\n",
       " 0.4333333373069763,\n",
       " 0.46666666865348816,\n",
       " 0.46666666865348816,\n",
       " 0.5,\n",
       " 0.4333333373069763,\n",
       " 0.4333333373069763,\n",
       " 0.46666666865348816,\n",
       " 0.5333333611488342,\n",
       " 0.5,\n",
       " 0.5333333611488342,\n",
       " 0.4333333373069763,\n",
       " 0.5333333611488342,\n",
       " 0.46666666865348816,\n",
       " 0.46666666865348816,\n",
       " 0.5]"
      ]
     },
     "execution_count": 97,
     "metadata": {},
     "output_type": "execute_result"
    }
   ],
   "source": [
    "model_fit.history['val_accuracy']"
   ]
  },
  {
   "cell_type": "markdown",
   "metadata": {},
   "source": [
    "## 1.Bi-LSTM(Bi-directional Long Short-Trem Memnory)"
   ]
  },
  {
   "cell_type": "code",
   "execution_count": 111,
   "metadata": {},
   "outputs": [
    {
     "name": "stdout",
     "output_type": "stream",
     "text": [
      "Model: \"model_4\"\n",
      "_________________________________________________________________\n",
      "Layer (type)                 Output Shape              Param #   \n",
      "=================================================================\n",
      "inputs (InputLayer)          (None, 40)                0         \n",
      "_________________________________________________________________\n",
      "embedding_8 (Embedding)      (None, 40, 128)           256128    \n",
      "_________________________________________________________________\n",
      "bidirectional_2 (Bidirection (None, 256)               263168    \n",
      "_________________________________________________________________\n",
      "FC1 (Dense)                  (None, 128)               32896     \n",
      "_________________________________________________________________\n",
      "dropout_3 (Dropout)          (None, 128)               0         \n",
      "_________________________________________________________________\n",
      "FC2 (Dense)                  (None, 4)                 516       \n",
      "=================================================================\n",
      "Total params: 552,708\n",
      "Trainable params: 552,708\n",
      "Non-trainable params: 0\n",
      "_________________________________________________________________\n"
     ]
    }
   ],
   "source": [
    "inputs = Input(name='inputs',shape=[max_len])\n",
    "## Embedding(size of word table,size of batch,length of every news)\n",
    "layer = Embedding(max_words+1,128,input_length=max_len)(inputs)\n",
    "layer = Bidirectional(LSTM(128))(layer)\n",
    "layer = Dense(128,activation=\"relu\",name=\"FC1\")(layer)\n",
    "layer = Dropout(0.5)(layer)\n",
    "layer = Dense(4,activation=\"softmax\",name=\"FC2\")(layer)\n",
    "model = Model(inputs=inputs,outputs=layer)\n",
    "model.summary()\n",
    "model.compile(loss=\"categorical_crossentropy\",optimizer=RMSprop(),metrics=[\"accuracy\"])"
   ]
  },
  {
   "cell_type": "code",
   "execution_count": 112,
   "metadata": {},
   "outputs": [
    {
     "data": {
      "image/png": "[encoded data removed]",
      "text/plain": [
       "<IPython.core.display.Image object>"
      ]
     },
     "execution_count": 112,
     "metadata": {},
     "output_type": "execute_result"
    }
   ],
   "source": [
    "from keras.utils import plot_model\n",
    "plot_model(model, 'Bi-LSTM.png', show_shapes=True)"
   ]
  },
  {
   "cell_type": "code",
   "execution_count": 113,
   "metadata": {},
   "outputs": [
    {
     "name": "stderr",
     "output_type": "stream",
     "text": [
      "/Users/zhangxin/opt/anaconda3/envs/tensorflow/lib/python3.7/site-packages/tensorflow_core/python/framework/indexed_slices.py:424: UserWarning: Converting sparse IndexedSlices to a dense Tensor of unknown shape. This may consume a large amount of memory.\n",
      "  \"Converting sparse IndexedSlices to a dense Tensor of unknown shape. \"\n"
     ]
    },
    {
     "name": "stdout",
     "output_type": "stream",
     "text": [
      "Train on 180 samples, validate on 30 samples\n",
      "Epoch 1/40\n",
      "180/180 [==============================] - 10s 55ms/step - loss: 1.3654 - accuracy: 0.3111 - val_loss: 1.4035 - val_accuracy: 0.3000\n",
      "Epoch 2/40\n",
      "180/180 [==============================] - 6s 32ms/step - loss: 1.2836 - accuracy: 0.3944 - val_loss: 1.8161 - val_accuracy: 0.3000\n",
      "Epoch 3/40\n",
      "180/180 [==============================] - 4s 24ms/step - loss: 1.1899 - accuracy: 0.4889 - val_loss: 1.2326 - val_accuracy: 0.4000\n",
      "Epoch 4/40\n",
      "180/180 [==============================] - 4s 24ms/step - loss: 0.9931 - accuracy: 0.5833 - val_loss: 1.0977 - val_accuracy: 0.5000\n",
      "Epoch 5/40\n",
      "180/180 [==============================] - 5s 25ms/step - loss: 0.8453 - accuracy: 0.6111 - val_loss: 1.0759 - val_accuracy: 0.5667\n",
      "Epoch 6/40\n",
      "180/180 [==============================] - 5s 29ms/step - loss: 0.6908 - accuracy: 0.7333 - val_loss: 0.9636 - val_accuracy: 0.5667\n",
      "Epoch 7/40\n",
      "180/180 [==============================] - 4s 24ms/step - loss: 0.6291 - accuracy: 0.7722 - val_loss: 1.0315 - val_accuracy: 0.5333\n",
      "Epoch 8/40\n",
      "180/180 [==============================] - 6s 34ms/step - loss: 0.5578 - accuracy: 0.7722 - val_loss: 1.1003 - val_accuracy: 0.6000\n",
      "Epoch 9/40\n",
      "180/180 [==============================] - 7s 38ms/step - loss: 0.5385 - accuracy: 0.8222 - val_loss: 0.9710 - val_accuracy: 0.5333\n",
      "Epoch 10/40\n",
      "180/180 [==============================] - 5s 26ms/step - loss: 0.4284 - accuracy: 0.8111 - val_loss: 1.1875 - val_accuracy: 0.5667\n",
      "Epoch 11/40\n",
      "180/180 [==============================] - 4s 25ms/step - loss: 0.4300 - accuracy: 0.8389 - val_loss: 1.1462 - val_accuracy: 0.5000\n",
      "Epoch 12/40\n",
      "180/180 [==============================] - 5s 26ms/step - loss: 0.3680 - accuracy: 0.8778 - val_loss: 1.2205 - val_accuracy: 0.5333\n",
      "Epoch 13/40\n",
      "180/180 [==============================] - 5s 25ms/step - loss: 0.2894 - accuracy: 0.8833 - val_loss: 1.3719 - val_accuracy: 0.5000\n",
      "Epoch 14/40\n",
      "180/180 [==============================] - 6s 32ms/step - loss: 0.3112 - accuracy: 0.9000 - val_loss: 1.4322 - val_accuracy: 0.5000\n",
      "Epoch 15/40\n",
      "180/180 [==============================] - 5s 29ms/step - loss: 0.2442 - accuracy: 0.9167 - val_loss: 1.7288 - val_accuracy: 0.5333\n",
      "Epoch 16/40\n",
      "180/180 [==============================] - 6s 32ms/step - loss: 0.2108 - accuracy: 0.9333 - val_loss: 1.6624 - val_accuracy: 0.4667\n",
      "Epoch 17/40\n",
      "180/180 [==============================] - 5s 28ms/step - loss: 0.2224 - accuracy: 0.9444 - val_loss: 1.7182 - val_accuracy: 0.5000\n",
      "Epoch 18/40\n",
      "180/180 [==============================] - 5s 29ms/step - loss: 0.1778 - accuracy: 0.9278 - val_loss: 1.6527 - val_accuracy: 0.4667\n",
      "Epoch 19/40\n",
      "180/180 [==============================] - 6s 33ms/step - loss: 0.1846 - accuracy: 0.9278 - val_loss: 1.9173 - val_accuracy: 0.4333\n",
      "Epoch 20/40\n",
      "180/180 [==============================] - 8s 43ms/step - loss: 0.1711 - accuracy: 0.9389 - val_loss: 2.0659 - val_accuracy: 0.5333\n",
      "Epoch 21/40\n",
      "180/180 [==============================] - 6s 32ms/step - loss: 0.1383 - accuracy: 0.9389 - val_loss: 1.9330 - val_accuracy: 0.5667\n",
      "Epoch 22/40\n",
      "180/180 [==============================] - 5s 27ms/step - loss: 0.1255 - accuracy: 0.9500 - val_loss: 2.2659 - val_accuracy: 0.5000\n",
      "Epoch 23/40\n",
      "180/180 [==============================] - 5s 27ms/step - loss: 0.1724 - accuracy: 0.9167 - val_loss: 1.9585 - val_accuracy: 0.5000\n",
      "Epoch 24/40\n",
      "180/180 [==============================] - 4s 24ms/step - loss: 0.1142 - accuracy: 0.9444 - val_loss: 2.1400 - val_accuracy: 0.5000\n",
      "Epoch 25/40\n",
      "180/180 [==============================] - 4s 23ms/step - loss: 0.1314 - accuracy: 0.9444 - val_loss: 2.2320 - val_accuracy: 0.5000\n",
      "Epoch 26/40\n",
      "180/180 [==============================] - 5s 29ms/step - loss: 0.1064 - accuracy: 0.9500 - val_loss: 2.2070 - val_accuracy: 0.5000\n",
      "Epoch 27/40\n",
      "180/180 [==============================] - 4s 24ms/step - loss: 0.0820 - accuracy: 0.9778 - val_loss: 2.3051 - val_accuracy: 0.5333\n",
      "Epoch 28/40\n",
      "180/180 [==============================] - 4s 25ms/step - loss: 0.1190 - accuracy: 0.9556 - val_loss: 2.3958 - val_accuracy: 0.4667\n",
      "Epoch 29/40\n",
      "180/180 [==============================] - 5s 25ms/step - loss: 0.1034 - accuracy: 0.9611 - val_loss: 2.3114 - val_accuracy: 0.5667\n",
      "Epoch 30/40\n",
      "180/180 [==============================] - 4s 24ms/step - loss: 0.1133 - accuracy: 0.9444 - val_loss: 2.4144 - val_accuracy: 0.4333\n",
      "Epoch 31/40\n",
      "180/180 [==============================] - 4s 24ms/step - loss: 0.0781 - accuracy: 0.9722 - val_loss: 2.3583 - val_accuracy: 0.5333\n",
      "Epoch 32/40\n",
      "180/180 [==============================] - 5s 26ms/step - loss: 0.0724 - accuracy: 0.9722 - val_loss: 2.6262 - val_accuracy: 0.5333\n",
      "Epoch 33/40\n",
      "180/180 [==============================] - 5s 28ms/step - loss: 0.0819 - accuracy: 0.9778 - val_loss: 2.7558 - val_accuracy: 0.5000\n",
      "Epoch 34/40\n",
      "180/180 [==============================] - 5s 25ms/step - loss: 0.0698 - accuracy: 0.9611 - val_loss: 2.9179 - val_accuracy: 0.4667\n",
      "Epoch 35/40\n",
      "180/180 [==============================] - 7s 38ms/step - loss: 0.0598 - accuracy: 0.9833 - val_loss: 3.4533 - val_accuracy: 0.4667\n",
      "Epoch 36/40\n",
      "180/180 [==============================] - 4s 25ms/step - loss: 0.0418 - accuracy: 0.9833 - val_loss: 2.8610 - val_accuracy: 0.5000\n",
      "Epoch 37/40\n",
      "180/180 [==============================] - 5s 26ms/step - loss: 0.0474 - accuracy: 0.9833 - val_loss: 2.9426 - val_accuracy: 0.5000\n",
      "Epoch 38/40\n",
      "180/180 [==============================] - 5s 27ms/step - loss: 0.0523 - accuracy: 0.9778 - val_loss: 3.1469 - val_accuracy: 0.5333\n",
      "Epoch 39/40\n",
      "180/180 [==============================] - 4s 22ms/step - loss: 0.0305 - accuracy: 0.9889 - val_loss: 3.3496 - val_accuracy: 0.5333\n",
      "Epoch 40/40\n",
      "180/180 [==============================] - 4s 23ms/step - loss: 0.0446 - accuracy: 0.9667 - val_loss: 3.1123 - val_accuracy: 0.5333\n"
     ]
    }
   ],
   "source": [
    "model_fit = model.fit(train_seq_mat,train_y,batch_size=8,epochs=40,\n",
    "                      validation_data=(val_seq_mat,val_y),\n",
    "#                       callbacks=[EarlyStopping(monitor='val_loss',min_delta=0.0001)] ## 当val-loss不再提升时停止训练\n",
    "                     )"
   ]
  },
  {
   "cell_type": "code",
   "execution_count": 114,
   "metadata": {},
   "outputs": [
    {
     "name": "stdout",
     "output_type": "stream",
     "text": [
      "39/39 [==============================] - 0s 7ms/step\n"
     ]
    }
   ],
   "source": [
    "# Using the test set to test the model.\n",
    "test_pre = model.evaluate(test_seq_mat, test_y)"
   ]
  },
  {
   "cell_type": "code",
   "execution_count": 115,
   "metadata": {},
   "outputs": [
    {
     "data": {
      "text/plain": [
       "[3.8896943605863132, 0.5641025900840759]"
      ]
     },
     "execution_count": 115,
     "metadata": {},
     "output_type": "execute_result"
    }
   ],
   "source": [
    "test_pre"
   ]
  },
  {
   "cell_type": "code",
   "execution_count": 116,
   "metadata": {},
   "outputs": [
    {
     "data": {
      "text/plain": [
       "dict_keys(['val_loss', 'val_accuracy', 'loss', 'accuracy'])"
      ]
     },
     "execution_count": 116,
     "metadata": {},
     "output_type": "execute_result"
    }
   ],
   "source": [
    "model_fit.history.keys()"
   ]
  },
  {
   "cell_type": "code",
   "execution_count": 119,
   "metadata": {},
   "outputs": [],
   "source": [
    "f = open('history.txt','w')\n",
    "f.write(str(model_fit.history))\n",
    "f.close()"
   ]
  },
  {
   "cell_type": "code",
   "execution_count": 118,
   "metadata": {},
   "outputs": [
    {
     "name": "stdout",
     "output_type": "stream",
     "text": [
      "              precision    recall  f1-score   support\n",
      "\n",
      "           0       0.50      0.60      0.55         5\n",
      "           1       0.33      0.50      0.40         6\n",
      "           2       0.55      0.60      0.57        10\n",
      "           3       0.77      0.56      0.65        18\n",
      "\n",
      "    accuracy                           0.56        39\n",
      "   macro avg       0.54      0.56      0.54        39\n",
      "weighted avg       0.61      0.56      0.58        39\n",
      "\n"
     ]
    }
   ],
   "source": [
    "# Using the test set to test the model.\n",
    "test_pre = model.predict(test_seq_mat)\n",
    "## Judge the predect result using the confusion matrix.\n",
    "confm = metrics.confusion_matrix(np.argmax(test_pre,axis=1),np.argmax(test_y,axis=1))\n",
    "\n",
    "print(metrics.classification_report(np.argmax(test_pre,axis=1),np.argmax(test_y,axis=1)))"
   ]
  },
  {
   "cell_type": "code",
   "execution_count": 122,
   "metadata": {},
   "outputs": [],
   "source": [
    "tok = Tokenizer(num_words=max_words)\n",
    "tok.fit_on_texts(answer_ext.answer_cut.astype(str))"
   ]
  },
  {
   "cell_type": "code",
   "execution_count": 123,
   "metadata": {},
   "outputs": [],
   "source": [
    "import pickle\n",
    "# saving\n",
    "with open('tok.pickle', 'wb') as handle:\n",
    "    pickle.dump(tok, handle, protocol=pickle.HIGHEST_PROTOCOL)\n",
    "\n",
    "# loading\n",
    "with open('tok.pickle', 'rb') as handle:\n",
    "    tok = pickle.load(handle)"
   ]
  },
  {
   "cell_type": "code",
   "execution_count": 125,
   "metadata": {},
   "outputs": [],
   "source": [
    "from keras.models import load_model\n",
    "model.save('BiLSTM_model.h5')  \n",
    "del model  # deletes the existing model"
   ]
  },
  {
   "cell_type": "code",
   "execution_count": null,
   "metadata": {},
   "outputs": [],
   "source": []
  }
 ],
 "metadata": {
  "kernelspec": {
   "display_name": "tensorflow",
   "language": "python",
   "name": "tensorflow"
  },
  "language_info": {
   "codemirror_mode": {
    "name": "ipython",
    "version": 3
   },
   "file_extension": ".py",
   "mimetype": "text/x-python",
   "name": "python",
   "nbconvert_exporter": "python",
   "pygments_lexer": "ipython3",
   "version": "3.7.6"
  }
 },
 "nbformat": 4,
 "nbformat_minor": 4
}
