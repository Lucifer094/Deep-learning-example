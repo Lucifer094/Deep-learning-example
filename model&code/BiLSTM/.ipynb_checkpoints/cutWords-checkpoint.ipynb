{
 "cells": [
  {
   "cell_type": "markdown",
   "metadata": {},
   "source": [
    "USing jieba to cut all answer sentences to words."
   ]
  },
  {
   "cell_type": "code",
   "execution_count": 1,
   "metadata": {},
   "outputs": [],
   "source": [
    "import re\n",
    "import jieba\n",
    "import pandas as pd"
   ]
  },
  {
   "cell_type": "code",
   "execution_count": 2,
   "metadata": {},
   "outputs": [],
   "source": [
    "student_answer1_path = '../data/student1ch.xlsx'\n",
    "reference_answer_path = '../data/reference_answers_extended_ch.xlsx'"
   ]
  },
  {
   "cell_type": "code",
   "execution_count": 3,
   "metadata": {},
   "outputs": [],
   "source": [
    "def buildWords(str):  \n",
    "    reg = \"[^A-Za-z\\u4e00-\\u9fa5]\"\n",
    "    words = ' '.join(jieba.cut(str)).split(' ')  \n",
    "    new = ''\n",
    "    number = 0\n",
    "    for word in words:\n",
    "        word = re.sub(reg, '', word)\n",
    "        if word is not '':\n",
    "            number = number + 1\n",
    "            new = new + word + ' '\n",
    "        else:\n",
    "            continue\n",
    "    if number != 0:\n",
    "        return new, number\n",
    "    else:\n",
    "        return new[:-1], number"
   ]
  },
  {
   "cell_type": "code",
   "execution_count": 15,
   "metadata": {},
   "outputs": [],
   "source": [
    "student_answer1_df = pd.read_excel(student_answer1_path)\n",
    "new_colum1 = []\n",
    "new_colum2 = []\n",
    "for i in student_answer1_df.index:\n",
    "    string, number = buildWords(str(student_answer1_df.iloc[i][1]))\n",
    "    new_colum1.append(string)\n",
    "    new_colum2.append(number)\n",
    "student_answer1_df.insert(2,'answer_cut',new_colum1)\n",
    "student_answer1_df.insert(3,'words_num',new_colum2)\n",
    "student_answer1_df = student_answer1_df.rename(columns={'格线':'score'})\n",
    "student_answer1_df.to_csv('../data/student1ch_expand.csv',index=False, encoding='utf-8')"
   ]
  },
  {
   "cell_type": "code",
   "execution_count": 18,
   "metadata": {},
   "outputs": [],
   "source": [
    "reference_answer_df = pd.read_excel(reference_answer_path)\n",
    "new_colum1 = []\n",
    "new_colum2 = []\n",
    "for i in reference_answer_df.index:\n",
    "    string, number = buildWords(str(reference_answer_df.iloc[i][1]))\n",
    "    new_colum1.append(string)\n",
    "    new_colum2.append(number)\n",
    "reference_answer_df.insert(2,'answer_cut',new_colum1)\n",
    "reference_answer_df.insert(3,'words_num',new_colum2)\n",
    "reference_answer_df = reference_answer_df.rename(columns={'格线':'score','refans_text':'refence_text'})\n",
    "reference_answer_df.to_csv('../data/reference_answers_extended_ch.csv',index=False, encoding='utf-8')"
   ]
  },
  {
   "cell_type": "code",
   "execution_count": null,
   "metadata": {},
   "outputs": [],
   "source": []
  },
  {
   "cell_type": "code",
   "execution_count": null,
   "metadata": {},
   "outputs": [],
   "source": []
  }
 ],
 "metadata": {
  "kernelspec": {
   "display_name": "tensorflow",
   "language": "python",
   "name": "tensorflow"
  },
  "language_info": {
   "codemirror_mode": {
    "name": "ipython",
    "version": 3
   },
   "file_extension": ".py",
   "mimetype": "text/x-python",
   "name": "python",
   "nbconvert_exporter": "python",
   "pygments_lexer": "ipython3",
   "version": "3.7.6"
  }
 },
 "nbformat": 4,
 "nbformat_minor": 4
}
