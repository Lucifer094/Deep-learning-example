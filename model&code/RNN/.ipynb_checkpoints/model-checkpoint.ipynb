{
 "cells": [
  {
   "cell_type": "code",
   "execution_count": 1,
   "metadata": {
    "uuid": "b5b8e974-750a-42d7-b865-e6a384de49e6"
   },
   "outputs": [
    {
     "name": "stdout",
     "output_type": "stream",
     "text": [
      "2.0.0\n",
      "2.2.4-tf\n"
     ]
    }
   ],
   "source": [
    "import pandas as pd\n",
    "import numpy as np\n",
    "import tensorflow as tf\n",
    "from tensorflow.keras import layers\n",
    "print(tf.__version__)\n",
    "print(tf.keras.__version__)"
   ]
  },
  {
   "cell_type": "code",
   "execution_count": 3,
   "metadata": {
    "uuid": "2c5a19b6-3171-4b1c-ac67-f0e4d82c4520"
   },
   "outputs": [],
   "source": [
    "trainWordsDf = pd.read_csv('conv_train.csv')\n",
    "testWordsDf = pd.read_csv('conv_test.csv')"
   ]
  },
  {
   "cell_type": "code",
   "execution_count": 8,
   "metadata": {
    "uuid": "8c89392c-b162-4e4e-897a-3e41f2e78ed6"
   },
   "outputs": [],
   "source": [
    "import pickle\n",
    "from tensorflow.keras.preprocessing import sequence\n",
    "max_words = 10000\n",
    "max_len = 300\n",
    "with open('tok.pickle', 'rb') as handle:\n",
    "    tok = pickle.load(handle)\n",
    "train_seq = tok.texts_to_sequences(trainWordsDf.Cut)\n",
    "test_seq = tok.texts_to_sequences(testWordsDf.Cut)\n",
    "train_seq_mat = sequence.pad_sequences(train_seq,maxlen=max_len)\n",
    "test_seq_mat = sequence.pad_sequences(test_seq,maxlen=max_len)"
   ]
  },
  {
   "cell_type": "code",
   "execution_count": 28,
   "metadata": {
    "uuid": "fe2c2071-dffe-4bf0-937e-c8e1dc0c8119"
   },
   "outputs": [],
   "source": [
    "train_y = trainWordsDf.Flag.values"
   ]
  },
  {
   "cell_type": "code",
   "execution_count": 9,
   "metadata": {
    "uuid": "ce731d07-c294-4cc2-bb40-98d6d3fade93"
   },
   "outputs": [
    {
     "name": "stdout",
     "output_type": "stream",
     "text": [
      "Model: \"model\"\n",
      "_________________________________________________________________\n",
      "Layer (type)                 Output Shape              Param #   \n",
      "=================================================================\n",
      "inputs (InputLayer)          [(None, 300)]             0         \n",
      "_________________________________________________________________\n",
      "embedding (Embedding)        (None, 300, 128)          1280128   \n",
      "_________________________________________________________________\n",
      "lstm (LSTM)                  (None, 128)               131584    \n",
      "_________________________________________________________________\n",
      "FC1 (Dense)                  (None, 128)               16512     \n",
      "_________________________________________________________________\n",
      "dropout (Dropout)            (None, 128)               0         \n",
      "_________________________________________________________________\n",
      "FC2 (Dense)                  (None, 1)                 129       \n",
      "=================================================================\n",
      "Total params: 1,428,353\n",
      "Trainable params: 1,428,353\n",
      "Non-trainable params: 0\n",
      "_________________________________________________________________\n"
     ]
    }
   ],
   "source": [
    "from tensorflow.keras.models import Model\n",
    "from tensorflow.keras.layers import LSTM, Activation, Dense, Dropout, Input, Embedding\n",
    "from tensorflow.keras.optimizers import RMSprop\n",
    "from tensorflow.keras.preprocessing.text import Tokenizer\n",
    "from tensorflow.keras.preprocessing import sequence\n",
    "from tensorflow.keras.callbacks import EarlyStopping\n",
    "\n",
    "inputs = Input(name='inputs',shape=[max_len])\n",
    "## Embedding(size of word table,size of batch,length of every news)\n",
    "layer = Embedding(max_words+1,128,input_length=max_len)(inputs)\n",
    "layer = LSTM(128)(layer)\n",
    "layer = Dense(128,activation=\"relu\",name=\"FC1\")(layer)\n",
    "layer = Dropout(0.5)(layer)\n",
    "layer = Dense(1,activation=\"sigmoid\",name=\"FC2\")(layer)\n",
    "model = Model(inputs=inputs,outputs=layer)\n",
    "model.summary()\n",
    "model.compile(loss='binary_crossentropy',\n",
    "             optimizer='adam',\n",
    "             metrics=['accuracy'])"
   ]
  },
  {
   "cell_type": "code",
   "execution_count": 31,
   "metadata": {
    "uuid": "f2d4dab0-f67e-449e-bb3c-bede95389e27"
   },
   "outputs": [
    {
     "name": "stdout",
     "output_type": "stream",
     "text": [
      "Train on 135656 samples\n",
      "Epoch 1/5\n",
      "135656/135656 [==============================] - 42s 309us/sample - loss: 0.0051 - accuracy: 0.9997\n",
      "Epoch 2/5\n",
      "135656/135656 [==============================] - 33s 245us/sample - loss: 2.8948e-07 - accuracy: 1.0000\n",
      "Epoch 3/5\n",
      "135656/135656 [==============================] - 33s 246us/sample - loss: 1.2055e-07 - accuracy: 1.0000\n",
      "Epoch 4/5\n",
      "135656/135656 [==============================] - 34s 247us/sample - loss: 6.0500e-08 - accuracy: 1.0000\n",
      "Epoch 5/5\n",
      "135656/135656 [==============================] - 33s 246us/sample - loss: 3.1063e-08 - accuracy: 1.0000\n"
     ]
    }
   ],
   "source": [
    "model_fit = model.fit(train_seq_mat,train_y,batch_size=128,epochs=5)"
   ]
  },
  {
   "cell_type": "code",
   "execution_count": 35,
   "metadata": {
    "uuid": "42409936-4d95-432b-bd5a-322e2b687912"
   },
   "outputs": [],
   "source": [
    "## Model`s save and download.\n",
    "from tensorflow.keras.models import load_model\n",
    "# Save\n",
    "model.save('my_model.h5')  \n",
    "del model  # deletes the existing model\n",
    "# Downlod\n",
    "model = load_model('my_model.h5')"
   ]
  },
  {
   "cell_type": "code",
   "execution_count": 36,
   "metadata": {
    "uuid": "fedd250e-715f-4f3e-a5d9-ec5c408f61f7"
   },
   "outputs": [],
   "source": [
    "predict = model.predict(test_seq_mat)"
   ]
  },
  {
   "cell_type": "code",
   "execution_count": 45,
   "metadata": {
    "uuid": "e940ffcc-fdf6-40bb-a519-f5c7e390147d"
   },
   "outputs": [],
   "source": [
    "resultDf = pd.DataFrame(range(1,(len(testWordsDf.index)+1)),columns=['SessionId'])"
   ]
  },
  {
   "cell_type": "code",
   "execution_count": 46,
   "metadata": {
    "uuid": "205645c6-b334-4226-b4d1-00c8c2d55c45"
   },
   "outputs": [],
   "source": [
    "resultDf['Probability'] = predict"
   ]
  },
  {
   "cell_type": "code",
   "execution_count": 47,
   "metadata": {
    "uuid": "feb44e7f-4407-4c3e-9274-5e1a2c4522ef"
   },
   "outputs": [
    {
     "data": {
      "text/html": [
       "<div>\n",
       "<style scoped>\n",
       "    .dataframe tbody tr th:only-of-type {\n",
       "        vertical-align: middle;\n",
       "    }\n",
       "\n",
       "    .dataframe tbody tr th {\n",
       "        vertical-align: top;\n",
       "    }\n",
       "\n",
       "    .dataframe thead th {\n",
       "        text-align: right;\n",
       "    }\n",
       "</style>\n",
       "<table border=\"1\" class=\"dataframe\">\n",
       "  <thead>\n",
       "    <tr style=\"text-align: right;\">\n",
       "      <th></th>\n",
       "      <th>SessionId</th>\n",
       "      <th>Probability</th>\n",
       "    </tr>\n",
       "  </thead>\n",
       "  <tbody>\n",
       "    <tr>\n",
       "      <th>0</th>\n",
       "      <td>1</td>\n",
       "      <td>0.0</td>\n",
       "    </tr>\n",
       "    <tr>\n",
       "      <th>1</th>\n",
       "      <td>2</td>\n",
       "      <td>0.0</td>\n",
       "    </tr>\n",
       "    <tr>\n",
       "      <th>2</th>\n",
       "      <td>3</td>\n",
       "      <td>0.0</td>\n",
       "    </tr>\n",
       "    <tr>\n",
       "      <th>3</th>\n",
       "      <td>4</td>\n",
       "      <td>0.0</td>\n",
       "    </tr>\n",
       "    <tr>\n",
       "      <th>4</th>\n",
       "      <td>5</td>\n",
       "      <td>0.0</td>\n",
       "    </tr>\n",
       "    <tr>\n",
       "      <th>...</th>\n",
       "      <td>...</td>\n",
       "      <td>...</td>\n",
       "    </tr>\n",
       "    <tr>\n",
       "      <th>50064</th>\n",
       "      <td>50065</td>\n",
       "      <td>0.0</td>\n",
       "    </tr>\n",
       "    <tr>\n",
       "      <th>50065</th>\n",
       "      <td>50066</td>\n",
       "      <td>0.0</td>\n",
       "    </tr>\n",
       "    <tr>\n",
       "      <th>50066</th>\n",
       "      <td>50067</td>\n",
       "      <td>0.0</td>\n",
       "    </tr>\n",
       "    <tr>\n",
       "      <th>50067</th>\n",
       "      <td>50068</td>\n",
       "      <td>0.0</td>\n",
       "    </tr>\n",
       "    <tr>\n",
       "      <th>50068</th>\n",
       "      <td>50069</td>\n",
       "      <td>0.0</td>\n",
       "    </tr>\n",
       "  </tbody>\n",
       "</table>\n",
       "<p>50069 rows × 2 columns</p>\n",
       "</div>"
      ],
      "text/plain": [
       "       SessionId  Probability\n",
       "0              1          0.0\n",
       "1              2          0.0\n",
       "2              3          0.0\n",
       "3              4          0.0\n",
       "4              5          0.0\n",
       "...          ...          ...\n",
       "50064      50065          0.0\n",
       "50065      50066          0.0\n",
       "50066      50067          0.0\n",
       "50067      50068          0.0\n",
       "50068      50069          0.0\n",
       "\n",
       "[50069 rows x 2 columns]"
      ]
     },
     "execution_count": 47,
     "metadata": {},
     "output_type": "execute_result"
    }
   ],
   "source": [
    "resultDf"
   ]
  },
  {
   "cell_type": "code",
   "execution_count": null,
   "metadata": {
    "uuid": "7d122117-5c85-47a1-9687-badccf5c177f"
   },
   "outputs": [],
   "source": []
  }
 ],
 "metadata": {
  "kernelspec": {
   "display_name": "tensorflow",
   "language": "python",
   "name": "tensorflow"
  },
  "language_info": {
   "codemirror_mode": {
    "name": "ipython",
    "version": 3
   },
   "file_extension": ".py",
   "mimetype": "text/x-python",
   "name": "python",
   "nbconvert_exporter": "python",
   "pygments_lexer": "ipython3",
   "version": "3.7.6"
  }
 },
 "nbformat": 4,
 "nbformat_minor": 2
}
